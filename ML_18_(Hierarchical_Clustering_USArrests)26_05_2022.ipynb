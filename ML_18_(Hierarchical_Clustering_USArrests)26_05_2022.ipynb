{
  "cells": [
    {
      "cell_type": "markdown",
      "metadata": {
        "id": "view-in-github",
        "colab_type": "text"
      },
      "source": [
        "<a href=\"https://colab.research.google.com/github/merdogan97/Machine-Learning-ML-/blob/main/ML_18_(Hierarchical_Clustering_USArrests)26_05_2022.ipynb\" target=\"_parent\"><img src=\"https://colab.research.google.com/assets/colab-badge.svg\" alt=\"Open In Colab\"/></a>"
      ]
    },
    {
      "cell_type": "markdown",
      "metadata": {
        "id": "WgOQMHR-vyxe"
      },
      "source": [
        "# Hierarchical Clustering"
      ]
    },
    {
      "cell_type": "markdown",
      "metadata": {
        "id": "DGAekze6vyxg"
      },
      "source": [
        "This data set contains statistics, in arrests per 100,000 residents for assault, murder, and rape in each of the 50 US states in 1973. Also given is the percent of the population living in urban areas.\n",
        "\n",
        "A data frame with 50 observations on 4 variables.\n",
        "\n",
        "- Murder numeric Murder arrests (per 100,000)\n",
        "- Assault numeric Assault arrests (per 100,000)\n",
        "- UrbanPop numeric Percent urban population\n",
        "- Rape numeric Rape arrests (per 100,000)"
      ]
    },
    {
      "cell_type": "code",
      "execution_count": 20,
      "metadata": {
        "id": "JYFmHvg3vyxh"
      },
      "outputs": [],
      "source": [
        "import numpy as np\n",
        "import pandas as pd\n",
        "import seaborn as sns\n",
        "import matplotlib.pyplot as plt\n",
        "\n",
        "%matplotlib inline\n",
        "#%matplotlib notebook\n",
        "plt.rcParams[\"figure.figsize\"] = (10,6)\n",
        "import warnings\n",
        "warnings.filterwarnings(\"ignore\")\n",
        "warnings.warn(\"this will not show\")\n",
        "#pd.set_option('display.float_format', lambda x: '%.3f' % x)"
      ]
    },
    {
      "cell_type": "code",
      "execution_count": 21,
      "metadata": {
        "id": "nGpS6BSRvyxj"
      },
      "outputs": [],
      "source": [
        "df = pd.read_csv(\"USArrest.csv\", index_col=0)"
      ]
    },
    {
      "cell_type": "code",
      "execution_count": 22,
      "metadata": {
        "colab": {
          "base_uri": "https://localhost:8080/",
          "height": 206
        },
        "id": "O5Qy7ganvyxj",
        "outputId": "af1a49a4-a220-410b-f2c2-54dd25937b8c"
      },
      "outputs": [
        {
          "output_type": "execute_result",
          "data": {
            "text/plain": [
              "            Murder  Assault  UrbanPop  Rape\n",
              "Alabama        0.8       45        58   7.3\n",
              "Alaska         2.1       46        48   7.8\n",
              "Arizona        2.1       48        80   8.3\n",
              "Arkansas       2.2       53        50   9.3\n",
              "California     2.2       56        91   9.5"
            ],
            "text/html": [
              "\n",
              "  <div id=\"df-7ed189b7-8b59-46de-8c38-87dd2d3b1de2\">\n",
              "    <div class=\"colab-df-container\">\n",
              "      <div>\n",
              "<style scoped>\n",
              "    .dataframe tbody tr th:only-of-type {\n",
              "        vertical-align: middle;\n",
              "    }\n",
              "\n",
              "    .dataframe tbody tr th {\n",
              "        vertical-align: top;\n",
              "    }\n",
              "\n",
              "    .dataframe thead th {\n",
              "        text-align: right;\n",
              "    }\n",
              "</style>\n",
              "<table border=\"1\" class=\"dataframe\">\n",
              "  <thead>\n",
              "    <tr style=\"text-align: right;\">\n",
              "      <th></th>\n",
              "      <th>Murder</th>\n",
              "      <th>Assault</th>\n",
              "      <th>UrbanPop</th>\n",
              "      <th>Rape</th>\n",
              "    </tr>\n",
              "  </thead>\n",
              "  <tbody>\n",
              "    <tr>\n",
              "      <th>Alabama</th>\n",
              "      <td>0.8</td>\n",
              "      <td>45</td>\n",
              "      <td>58</td>\n",
              "      <td>7.3</td>\n",
              "    </tr>\n",
              "    <tr>\n",
              "      <th>Alaska</th>\n",
              "      <td>2.1</td>\n",
              "      <td>46</td>\n",
              "      <td>48</td>\n",
              "      <td>7.8</td>\n",
              "    </tr>\n",
              "    <tr>\n",
              "      <th>Arizona</th>\n",
              "      <td>2.1</td>\n",
              "      <td>48</td>\n",
              "      <td>80</td>\n",
              "      <td>8.3</td>\n",
              "    </tr>\n",
              "    <tr>\n",
              "      <th>Arkansas</th>\n",
              "      <td>2.2</td>\n",
              "      <td>53</td>\n",
              "      <td>50</td>\n",
              "      <td>9.3</td>\n",
              "    </tr>\n",
              "    <tr>\n",
              "      <th>California</th>\n",
              "      <td>2.2</td>\n",
              "      <td>56</td>\n",
              "      <td>91</td>\n",
              "      <td>9.5</td>\n",
              "    </tr>\n",
              "  </tbody>\n",
              "</table>\n",
              "</div>\n",
              "      <button class=\"colab-df-convert\" onclick=\"convertToInteractive('df-7ed189b7-8b59-46de-8c38-87dd2d3b1de2')\"\n",
              "              title=\"Convert this dataframe to an interactive table.\"\n",
              "              style=\"display:none;\">\n",
              "        \n",
              "  <svg xmlns=\"http://www.w3.org/2000/svg\" height=\"24px\"viewBox=\"0 0 24 24\"\n",
              "       width=\"24px\">\n",
              "    <path d=\"M0 0h24v24H0V0z\" fill=\"none\"/>\n",
              "    <path d=\"M18.56 5.44l.94 2.06.94-2.06 2.06-.94-2.06-.94-.94-2.06-.94 2.06-2.06.94zm-11 1L8.5 8.5l.94-2.06 2.06-.94-2.06-.94L8.5 2.5l-.94 2.06-2.06.94zm10 10l.94 2.06.94-2.06 2.06-.94-2.06-.94-.94-2.06-.94 2.06-2.06.94z\"/><path d=\"M17.41 7.96l-1.37-1.37c-.4-.4-.92-.59-1.43-.59-.52 0-1.04.2-1.43.59L10.3 9.45l-7.72 7.72c-.78.78-.78 2.05 0 2.83L4 21.41c.39.39.9.59 1.41.59.51 0 1.02-.2 1.41-.59l7.78-7.78 2.81-2.81c.8-.78.8-2.07 0-2.86zM5.41 20L4 18.59l7.72-7.72 1.47 1.35L5.41 20z\"/>\n",
              "  </svg>\n",
              "      </button>\n",
              "      \n",
              "  <style>\n",
              "    .colab-df-container {\n",
              "      display:flex;\n",
              "      flex-wrap:wrap;\n",
              "      gap: 12px;\n",
              "    }\n",
              "\n",
              "    .colab-df-convert {\n",
              "      background-color: #E8F0FE;\n",
              "      border: none;\n",
              "      border-radius: 50%;\n",
              "      cursor: pointer;\n",
              "      display: none;\n",
              "      fill: #1967D2;\n",
              "      height: 32px;\n",
              "      padding: 0 0 0 0;\n",
              "      width: 32px;\n",
              "    }\n",
              "\n",
              "    .colab-df-convert:hover {\n",
              "      background-color: #E2EBFA;\n",
              "      box-shadow: 0px 1px 2px rgba(60, 64, 67, 0.3), 0px 1px 3px 1px rgba(60, 64, 67, 0.15);\n",
              "      fill: #174EA6;\n",
              "    }\n",
              "\n",
              "    [theme=dark] .colab-df-convert {\n",
              "      background-color: #3B4455;\n",
              "      fill: #D2E3FC;\n",
              "    }\n",
              "\n",
              "    [theme=dark] .colab-df-convert:hover {\n",
              "      background-color: #434B5C;\n",
              "      box-shadow: 0px 1px 3px 1px rgba(0, 0, 0, 0.15);\n",
              "      filter: drop-shadow(0px 1px 2px rgba(0, 0, 0, 0.3));\n",
              "      fill: #FFFFFF;\n",
              "    }\n",
              "  </style>\n",
              "\n",
              "      <script>\n",
              "        const buttonEl =\n",
              "          document.querySelector('#df-7ed189b7-8b59-46de-8c38-87dd2d3b1de2 button.colab-df-convert');\n",
              "        buttonEl.style.display =\n",
              "          google.colab.kernel.accessAllowed ? 'block' : 'none';\n",
              "\n",
              "        async function convertToInteractive(key) {\n",
              "          const element = document.querySelector('#df-7ed189b7-8b59-46de-8c38-87dd2d3b1de2');\n",
              "          const dataTable =\n",
              "            await google.colab.kernel.invokeFunction('convertToInteractive',\n",
              "                                                     [key], {});\n",
              "          if (!dataTable) return;\n",
              "\n",
              "          const docLinkHtml = 'Like what you see? Visit the ' +\n",
              "            '<a target=\"_blank\" href=https://colab.research.google.com/notebooks/data_table.ipynb>data table notebook</a>'\n",
              "            + ' to learn more about interactive tables.';\n",
              "          element.innerHTML = '';\n",
              "          dataTable['output_type'] = 'display_data';\n",
              "          await google.colab.output.renderOutput(dataTable, element);\n",
              "          const docLink = document.createElement('div');\n",
              "          docLink.innerHTML = docLinkHtml;\n",
              "          element.appendChild(docLink);\n",
              "        }\n",
              "      </script>\n",
              "    </div>\n",
              "  </div>\n",
              "  "
            ]
          },
          "metadata": {},
          "execution_count": 22
        }
      ],
      "source": [
        "df.head()"
      ]
    },
    {
      "cell_type": "markdown",
      "metadata": {
        "id": "7tkcg7YTvyxk"
      },
      "source": [
        "## Exploratory Data Analysis and Visualization"
      ]
    },
    {
      "cell_type": "code",
      "execution_count": 23,
      "metadata": {
        "colab": {
          "base_uri": "https://localhost:8080/"
        },
        "id": "AmT-QkxZvyxl",
        "outputId": "f2cbc0c4-42c7-4466-a499-6de775f0032e"
      },
      "outputs": [
        {
          "output_type": "stream",
          "name": "stdout",
          "text": [
            "<class 'pandas.core.frame.DataFrame'>\n",
            "Index: 50 entries, Alabama to Wyoming\n",
            "Data columns (total 4 columns):\n",
            " #   Column    Non-Null Count  Dtype  \n",
            "---  ------    --------------  -----  \n",
            " 0   Murder    50 non-null     float64\n",
            " 1   Assault   50 non-null     int64  \n",
            " 2   UrbanPop  50 non-null     int64  \n",
            " 3   Rape      50 non-null     float64\n",
            "dtypes: float64(2), int64(2)\n",
            "memory usage: 2.0+ KB\n"
          ]
        }
      ],
      "source": [
        "df.info()"
      ]
    },
    {
      "cell_type": "code",
      "execution_count": 24,
      "metadata": {
        "colab": {
          "base_uri": "https://localhost:8080/",
          "height": 175
        },
        "id": "1Qkb5p88vyxl",
        "outputId": "415e64a3-14f3-4144-b1b0-a0d09b9f87aa"
      },
      "outputs": [
        {
          "output_type": "execute_result",
          "data": {
            "text/plain": [
              "          count     mean        std   min      25%     50%      75%    max\n",
              "Murder     50.0    7.788   4.355510   0.8    4.075    7.25   11.250   17.4\n",
              "Assault    50.0  170.760  83.337661  45.0  109.000  159.00  249.000  337.0\n",
              "UrbanPop   50.0   65.540  14.474763  32.0   54.500   66.00   77.750   91.0\n",
              "Rape       50.0   21.232   9.366385   7.3   15.075   20.10   26.175   46.0"
            ],
            "text/html": [
              "\n",
              "  <div id=\"df-0531f358-6544-4265-96df-20fb9688387f\">\n",
              "    <div class=\"colab-df-container\">\n",
              "      <div>\n",
              "<style scoped>\n",
              "    .dataframe tbody tr th:only-of-type {\n",
              "        vertical-align: middle;\n",
              "    }\n",
              "\n",
              "    .dataframe tbody tr th {\n",
              "        vertical-align: top;\n",
              "    }\n",
              "\n",
              "    .dataframe thead th {\n",
              "        text-align: right;\n",
              "    }\n",
              "</style>\n",
              "<table border=\"1\" class=\"dataframe\">\n",
              "  <thead>\n",
              "    <tr style=\"text-align: right;\">\n",
              "      <th></th>\n",
              "      <th>count</th>\n",
              "      <th>mean</th>\n",
              "      <th>std</th>\n",
              "      <th>min</th>\n",
              "      <th>25%</th>\n",
              "      <th>50%</th>\n",
              "      <th>75%</th>\n",
              "      <th>max</th>\n",
              "    </tr>\n",
              "  </thead>\n",
              "  <tbody>\n",
              "    <tr>\n",
              "      <th>Murder</th>\n",
              "      <td>50.0</td>\n",
              "      <td>7.788</td>\n",
              "      <td>4.355510</td>\n",
              "      <td>0.8</td>\n",
              "      <td>4.075</td>\n",
              "      <td>7.25</td>\n",
              "      <td>11.250</td>\n",
              "      <td>17.4</td>\n",
              "    </tr>\n",
              "    <tr>\n",
              "      <th>Assault</th>\n",
              "      <td>50.0</td>\n",
              "      <td>170.760</td>\n",
              "      <td>83.337661</td>\n",
              "      <td>45.0</td>\n",
              "      <td>109.000</td>\n",
              "      <td>159.00</td>\n",
              "      <td>249.000</td>\n",
              "      <td>337.0</td>\n",
              "    </tr>\n",
              "    <tr>\n",
              "      <th>UrbanPop</th>\n",
              "      <td>50.0</td>\n",
              "      <td>65.540</td>\n",
              "      <td>14.474763</td>\n",
              "      <td>32.0</td>\n",
              "      <td>54.500</td>\n",
              "      <td>66.00</td>\n",
              "      <td>77.750</td>\n",
              "      <td>91.0</td>\n",
              "    </tr>\n",
              "    <tr>\n",
              "      <th>Rape</th>\n",
              "      <td>50.0</td>\n",
              "      <td>21.232</td>\n",
              "      <td>9.366385</td>\n",
              "      <td>7.3</td>\n",
              "      <td>15.075</td>\n",
              "      <td>20.10</td>\n",
              "      <td>26.175</td>\n",
              "      <td>46.0</td>\n",
              "    </tr>\n",
              "  </tbody>\n",
              "</table>\n",
              "</div>\n",
              "      <button class=\"colab-df-convert\" onclick=\"convertToInteractive('df-0531f358-6544-4265-96df-20fb9688387f')\"\n",
              "              title=\"Convert this dataframe to an interactive table.\"\n",
              "              style=\"display:none;\">\n",
              "        \n",
              "  <svg xmlns=\"http://www.w3.org/2000/svg\" height=\"24px\"viewBox=\"0 0 24 24\"\n",
              "       width=\"24px\">\n",
              "    <path d=\"M0 0h24v24H0V0z\" fill=\"none\"/>\n",
              "    <path d=\"M18.56 5.44l.94 2.06.94-2.06 2.06-.94-2.06-.94-.94-2.06-.94 2.06-2.06.94zm-11 1L8.5 8.5l.94-2.06 2.06-.94-2.06-.94L8.5 2.5l-.94 2.06-2.06.94zm10 10l.94 2.06.94-2.06 2.06-.94-2.06-.94-.94-2.06-.94 2.06-2.06.94z\"/><path d=\"M17.41 7.96l-1.37-1.37c-.4-.4-.92-.59-1.43-.59-.52 0-1.04.2-1.43.59L10.3 9.45l-7.72 7.72c-.78.78-.78 2.05 0 2.83L4 21.41c.39.39.9.59 1.41.59.51 0 1.02-.2 1.41-.59l7.78-7.78 2.81-2.81c.8-.78.8-2.07 0-2.86zM5.41 20L4 18.59l7.72-7.72 1.47 1.35L5.41 20z\"/>\n",
              "  </svg>\n",
              "      </button>\n",
              "      \n",
              "  <style>\n",
              "    .colab-df-container {\n",
              "      display:flex;\n",
              "      flex-wrap:wrap;\n",
              "      gap: 12px;\n",
              "    }\n",
              "\n",
              "    .colab-df-convert {\n",
              "      background-color: #E8F0FE;\n",
              "      border: none;\n",
              "      border-radius: 50%;\n",
              "      cursor: pointer;\n",
              "      display: none;\n",
              "      fill: #1967D2;\n",
              "      height: 32px;\n",
              "      padding: 0 0 0 0;\n",
              "      width: 32px;\n",
              "    }\n",
              "\n",
              "    .colab-df-convert:hover {\n",
              "      background-color: #E2EBFA;\n",
              "      box-shadow: 0px 1px 2px rgba(60, 64, 67, 0.3), 0px 1px 3px 1px rgba(60, 64, 67, 0.15);\n",
              "      fill: #174EA6;\n",
              "    }\n",
              "\n",
              "    [theme=dark] .colab-df-convert {\n",
              "      background-color: #3B4455;\n",
              "      fill: #D2E3FC;\n",
              "    }\n",
              "\n",
              "    [theme=dark] .colab-df-convert:hover {\n",
              "      background-color: #434B5C;\n",
              "      box-shadow: 0px 1px 3px 1px rgba(0, 0, 0, 0.15);\n",
              "      filter: drop-shadow(0px 1px 2px rgba(0, 0, 0, 0.3));\n",
              "      fill: #FFFFFF;\n",
              "    }\n",
              "  </style>\n",
              "\n",
              "      <script>\n",
              "        const buttonEl =\n",
              "          document.querySelector('#df-0531f358-6544-4265-96df-20fb9688387f button.colab-df-convert');\n",
              "        buttonEl.style.display =\n",
              "          google.colab.kernel.accessAllowed ? 'block' : 'none';\n",
              "\n",
              "        async function convertToInteractive(key) {\n",
              "          const element = document.querySelector('#df-0531f358-6544-4265-96df-20fb9688387f');\n",
              "          const dataTable =\n",
              "            await google.colab.kernel.invokeFunction('convertToInteractive',\n",
              "                                                     [key], {});\n",
              "          if (!dataTable) return;\n",
              "\n",
              "          const docLinkHtml = 'Like what you see? Visit the ' +\n",
              "            '<a target=\"_blank\" href=https://colab.research.google.com/notebooks/data_table.ipynb>data table notebook</a>'\n",
              "            + ' to learn more about interactive tables.';\n",
              "          element.innerHTML = '';\n",
              "          dataTable['output_type'] = 'display_data';\n",
              "          await google.colab.output.renderOutput(dataTable, element);\n",
              "          const docLink = document.createElement('div');\n",
              "          docLink.innerHTML = docLinkHtml;\n",
              "          element.appendChild(docLink);\n",
              "        }\n",
              "      </script>\n",
              "    </div>\n",
              "  </div>\n",
              "  "
            ]
          },
          "metadata": {},
          "execution_count": 24
        }
      ],
      "source": [
        "df.describe().T"
      ]
    },
    {
      "cell_type": "code",
      "execution_count": 25,
      "metadata": {
        "colab": {
          "base_uri": "https://localhost:8080/",
          "height": 726
        },
        "id": "C5IIRRQjvyxm",
        "outputId": "63e1622b-a33b-4254-81b1-8ede0b7e3d5e"
      },
      "outputs": [
        {
          "output_type": "display_data",
          "data": {
            "text/plain": [
              "<Figure size 720x720 with 20 Axes>"
            ],
            "image/png": "[encoded data removed]"
          },
          "metadata": {
            "needs_background": "light"
          }
        }
      ],
      "source": [
        "sns.pairplot(df);"
      ]
    },
    {
      "cell_type": "code",
      "execution_count": 25,
      "metadata": {
        "id": "GzOg6QOwvyxn"
      },
      "outputs": [],
      "source": [
        ""
      ]
    },
    {
      "cell_type": "code",
      "execution_count": 26,
      "metadata": {
        "colab": {
          "base_uri": "https://localhost:8080/",
          "height": 443
        },
        "id": "76EfC002vyxn",
        "outputId": "8f55d571-a94c-4bdc-c825-999c3843a260"
      },
      "outputs": [
        {
          "output_type": "display_data",
          "data": {
            "text/plain": [
              "<Figure size 1008x432 with 1 Axes>"
            ],
            "image/png": "[encoded data removed]"
          },
          "metadata": {
            "needs_background": "light"
          }
        }
      ],
      "source": [
        "plt.figure(figsize = (14,6))\n",
        "sns.barplot(y = df.Murder.sort_values(), x = df.Murder.sort_values().index)  # Murder\n",
        "plt.xticks(rotation = 90);"
      ]
    },
    {
      "cell_type": "code",
      "execution_count": 27,
      "metadata": {
        "colab": {
          "base_uri": "https://localhost:8080/",
          "height": 443
        },
        "id": "xTwcbMILvyxo",
        "outputId": "33b4afcb-11b4-494a-8b63-0d991b42f9ba"
      },
      "outputs": [
        {
          "output_type": "display_data",
          "data": {
            "text/plain": [
              "<Figure size 1008x432 with 1 Axes>"
            ],
            "image/png": "[encoded data removed]"
          },
          "metadata": {
            "needs_background": "light"
          }
        }
      ],
      "source": [
        "plt.figure(figsize = (14,6))\n",
        "sns.barplot(y = df.Assault.sort_values(), x = df.Assault.sort_values().index)    # Assault\n",
        "plt.xticks(rotation = 90);\n",
        "plt.xticks(rotation = 90);"
      ]
    },
    {
      "cell_type": "code",
      "execution_count": 28,
      "metadata": {
        "colab": {
          "base_uri": "https://localhost:8080/",
          "height": 443
        },
        "id": "lhGuUYXxvyxo",
        "outputId": "05c484bd-b653-4b96-eac6-a7cae0498063"
      },
      "outputs": [
        {
          "output_type": "display_data",
          "data": {
            "text/plain": [
              "<Figure size 1008x432 with 1 Axes>"
            ],
            "image/png": "[encoded data removed]"
          },
          "metadata": {
            "needs_background": "light"
          }
        }
      ],
      "source": [
        "plt.figure(figsize = (14,6))\n",
        "sns.barplot(y = df.Rape.sort_values(), x = df.Rape.sort_values().index)    # Rape\n",
        "plt.xticks(rotation = 90);"
      ]
    },
    {
      "cell_type": "markdown",
      "metadata": {
        "id": "MiUCe84Uvyxp"
      },
      "source": [
        "# **Hopkins Test**"
      ]
    },
    {
      "cell_type": "markdown",
      "metadata": {
        "id": "jGMvajO8vyxp"
      },
      "source": [
        "- Hopkins test, a statistical test for randomness of a variable.\n",
        "- Null Hypothesis (Ho) : Data points are generated by non-random, uniform distribution (implying no meaningful clusters)\n",
        "- Alternate Hypothesis (Ha): Data points are generated by random data points (presence of clusters)\n",
        "- The more close 0, the more available to separate clusters"
      ]
    },
    {
      "cell_type": "code",
      "execution_count": 29,
      "metadata": {
        "colab": {
          "base_uri": "https://localhost:8080/"
        },
        "id": "_PKu-Msnvyxq",
        "outputId": "7b2579f8-fbe5-4044-ed7e-c7ca64c93149"
      },
      "outputs": [
        {
          "output_type": "stream",
          "name": "stdout",
          "text": [
            "Looking in indexes: https://pypi.org/simple, https://us-python.pkg.dev/colab-wheels/public/simple/\n",
            "Requirement already satisfied: pyclustertend in /usr/local/lib/python3.7/dist-packages (1.4.9)\n"
          ]
        }
      ],
      "source": [
        "!pip install pyclustertend"
      ]
    },
    {
      "cell_type": "code",
      "execution_count": 30,
      "metadata": {
        "id": "l2qbIsusvyxq"
      },
      "outputs": [],
      "source": [
        "from pyclustertend import hopkins"
      ]
    },
    {
      "cell_type": "code",
      "execution_count": 31,
      "metadata": {
        "colab": {
          "base_uri": "https://localhost:8080/"
        },
        "id": "VUS4v99lvyxq",
        "outputId": "6eb6c9ef-62cf-40df-cece-1228ae9266c8"
      },
      "outputs": [
        {
          "output_type": "execute_result",
          "data": {
            "text/plain": [
              "0.36454628114482046"
            ]
          },
          "metadata": {},
          "execution_count": 31
        }
      ],
      "source": [
        "hopkins(df, df.shape[0])        # diğerlerine göre yüksek (0'a yakın olması iyi olur)"
      ]
    },
    {
      "cell_type": "code",
      "execution_count": 32,
      "metadata": {
        "id": "eOcsrkpvvyxr"
      },
      "outputs": [],
      "source": [
        "from sklearn.preprocessing import StandardScaler, MinMaxScaler"
      ]
    },
    {
      "cell_type": "code",
      "execution_count": 33,
      "metadata": {
        "id": "nIP__-Y-vyxr"
      },
      "outputs": [],
      "source": [
        "df1 = df.copy()\n",
        "df2 = df.copy()"
      ]
    },
    {
      "cell_type": "code",
      "execution_count": 34,
      "metadata": {
        "colab": {
          "base_uri": "https://localhost:8080/"
        },
        "id": "1gwkWhFKvyxr",
        "outputId": "827ea54b-badc-4c17-8a3a-35cd2c943c6e"
      },
      "outputs": [
        {
          "output_type": "execute_result",
          "data": {
            "text/plain": [
              "0.19910608543486377"
            ]
          },
          "metadata": {},
          "execution_count": 34
        }
      ],
      "source": [
        "hopkins(MinMaxScaler().fit_transform(df1), df1.shape[0])"
      ]
    },
    {
      "cell_type": "code",
      "execution_count": 35,
      "metadata": {
        "colab": {
          "base_uri": "https://localhost:8080/"
        },
        "id": "gZjlvD5Avyxs",
        "outputId": "96bc8d56-a0fd-4e12-ea09-bf6e5e28a293"
      },
      "outputs": [
        {
          "output_type": "execute_result",
          "data": {
            "text/plain": [
              "0.2355115753110668"
            ]
          },
          "metadata": {},
          "execution_count": 35
        }
      ],
      "source": [
        "hopkins(StandardScaler().fit_transform(df2), df2.shape[0])"
      ]
    },
    {
      "cell_type": "code",
      "execution_count": 36,
      "metadata": {
        "id": "dBiO8IIovyxs"
      },
      "outputs": [],
      "source": [
        "scaler = MinMaxScaler()"
      ]
    },
    {
      "cell_type": "code",
      "execution_count": 37,
      "metadata": {
        "id": "Tp2MVRIEvyxs"
      },
      "outputs": [],
      "source": [
        "df_scaled = scaler.fit_transform(df)"
      ]
    },
    {
      "cell_type": "code",
      "execution_count": 38,
      "metadata": {
        "id": "76htKlcYvyxt"
      },
      "outputs": [],
      "source": [
        "X = pd.DataFrame(df_scaled, columns=df.columns)"
      ]
    },
    {
      "cell_type": "markdown",
      "metadata": {
        "id": "Ea339lBevyxt"
      },
      "source": [
        "# **Dendrogram**"
      ]
    },
    {
      "cell_type": "markdown",
      "metadata": {
        "id": "Dthcblbjvyxt"
      },
      "source": [
        "- Tree-like hierarchical representation of clusters is called a dendrogram.   \n",
        "- It illustrates the arrangement of the clusters produced by the corresponding analyses."
      ]
    },
    {
      "cell_type": "code",
      "execution_count": 39,
      "metadata": {
        "id": "zrhjBW2tvyxt"
      },
      "outputs": [],
      "source": [
        "from scipy.cluster.hierarchy import dendrogram, linkage"
      ]
    },
    {
      "cell_type": "code",
      "execution_count": 40,
      "metadata": {
        "id": "06p-VVgPvyxt"
      },
      "outputs": [],
      "source": [
        "#dendrogram()"
      ]
    },
    {
      "cell_type": "markdown",
      "metadata": {
        "id": "S3_jY4Huvyxt"
      },
      "source": [
        "**“linkage” parameter: (default= “ward”)**\n",
        "\n",
        "  {‘ward’, ‘complete’, ‘average’, ‘single’}\n",
        "\n",
        "Which linkage criterion to use. The linkage criterion determines which distance to use between sets of observation. \n",
        "-\tWard minimizes the variance of the clusters being merged.\n",
        "-\tAverage uses the average of the distances of each observation of the two sets.\n",
        "-\tComplete or maximum linkage uses the maximum distances between all observations of the two sets.\n",
        "-\tSingle uses the minimum of the distances between all observations of the two sets.\n"
      ]
    },
    {
      "cell_type": "code",
      "execution_count": 41,
      "metadata": {
        "id": "MNPWC2Yivyxu"
      },
      "outputs": [],
      "source": [
        "hc_ward = linkage(y = X, method = \"ward\")\n",
        "hc_complete = linkage(X, \"complete\")\n",
        "hc_average = linkage(X, \"average\")\n",
        "hc_single = linkage(X, \"single\")"
      ]
    },
    {
      "cell_type": "code",
      "execution_count": 42,
      "metadata": {
        "colab": {
          "base_uri": "https://localhost:8080/",
          "height": 431
        },
        "id": "HwQ1NHh9vyxu",
        "outputId": "89069ecf-d3d8-422b-d433-277754b57875"
      },
      "outputs": [
        {
          "output_type": "display_data",
          "data": {
            "text/plain": [
              "<Figure size 1008x504 with 1 Axes>"
            ],
            "image/png": "[encoded data removed]"
          },
          "metadata": {
            "needs_background": "light"
          }
        }
      ],
      "source": [
        "plt.figure(figsize = (14,7))\n",
        "dendrogram(hc_ward, leaf_font_size = 10);"
      ]
    },
    {
      "cell_type": "code",
      "execution_count": 43,
      "metadata": {
        "colab": {
          "base_uri": "https://localhost:8080/",
          "height": 428
        },
        "id": "dokWiTaHvyxu",
        "outputId": "c8bc7c16-bd4e-4e1d-b8d2-e64493c69e43"
      },
      "outputs": [
        {
          "output_type": "display_data",
          "data": {
            "text/plain": [
              "<Figure size 1008x504 with 1 Axes>"
            ],
            "image/png": "[encoded data removed]"
          },
          "metadata": {
            "needs_background": "light"
          }
        }
      ],
      "source": [
        "plt.figure(figsize = (14,7))\n",
        "dendrogram(hc_ward,\n",
        "           truncate_mode = \"lastp\",\n",
        "           p = 10,\n",
        "           show_contracted = True,  # ayağına kaç adet küme bağlandığını gösteryor.\n",
        "           leaf_font_size = 10);"
      ]
    },
    {
      "cell_type": "code",
      "execution_count": 44,
      "metadata": {
        "colab": {
          "base_uri": "https://localhost:8080/",
          "height": 730
        },
        "id": "SsBHMdgQvyxv",
        "outputId": "da8daf76-91ba-4079-8952-bf0b3260d717"
      },
      "outputs": [
        {
          "output_type": "display_data",
          "data": {
            "text/plain": [
              "<Figure size 1440x864 with 4 Axes>"
            ],
            "image/png": "[encoded data removed]"
          },
          "metadata": {
            "needs_background": "light"
          }
        }
      ],
      "source": [
        "plt.figure(figsize = (20,12))\n",
        "\n",
        "plt.subplot(221)\n",
        "plt.title(\"Ward\")\n",
        "plt.xlabel(\"Observations\")\n",
        "plt.ylabel(\"Distance\")\n",
        "dendrogram(hc_ward, truncate_mode = \"lastp\", p = 10, show_contracted = True, leaf_font_size = 10)\n",
        "\n",
        "plt.subplot(222)\n",
        "plt.title(\"Complete\")\n",
        "plt.xlabel(\"Observations\")\n",
        "plt.ylabel(\"Distance\")\n",
        "dendrogram(hc_complete, truncate_mode = \"lastp\", p = 10, show_contracted = True, leaf_font_size = 10)\n",
        "\n",
        "plt.subplot(223)\n",
        "plt.title(\"Average\")\n",
        "plt.xlabel(\"Observations\")\n",
        "plt.ylabel(\"Distance\")\n",
        "dendrogram(hc_average, truncate_mode = \"lastp\", p = 10, show_contracted = True, leaf_font_size = 10)\n",
        "\n",
        "plt.subplot(224)\n",
        "plt.title(\"Single\")\n",
        "plt.xlabel(\"Observations\")\n",
        "plt.ylabel(\"Distance\")\n",
        "dendrogram(hc_single, truncate_mode = \"lastp\", p = 10, show_contracted = True, leaf_font_size = 10);"
      ]
    },
    {
      "cell_type": "markdown",
      "metadata": {
        "id": "O0tt2vErvyxv"
      },
      "source": [
        "# **Hierarchical Clustering (Agglomerative)**"
      ]
    },
    {
      "cell_type": "markdown",
      "metadata": {
        "id": "P1VpSU0Mvyxv"
      },
      "source": [
        "- Ideal clustering is characterised by minimal intra cluster distance and maximal inter cluster distanc"
      ]
    },
    {
      "cell_type": "code",
      "execution_count": 45,
      "metadata": {
        "id": "gr__kW4pvyxv"
      },
      "outputs": [],
      "source": [
        "from sklearn.cluster import AgglomerativeClustering"
      ]
    },
    {
      "cell_type": "markdown",
      "metadata": {
        "id": "Le-_Et8vvyxv"
      },
      "source": [
        "# **S(Silhouette) Score**"
      ]
    },
    {
      "cell_type": "markdown",
      "metadata": {
        "id": "B7hWEiPTvyxw"
      },
      "source": [
        "- If the ground truth labels are not known, evaluation must be performed using the model itself. (One of the evaluation method is Silhouette Coefficient)\n",
        "- A higher Silhouette Coefficient score relates to a model with better defined clusters. \n",
        "- a :The mean distance between a sample and all other points in the same class.\n",
        "  b: The mean distance between a sample and all other points in the next nearest cluster.\n",
        "\n",
        "s = (b-a) / max(a,b)"
      ]
    },
    {
      "cell_type": "code",
      "execution_count": 46,
      "metadata": {
        "id": "bAsYnB1cvyxw"
      },
      "outputs": [],
      "source": [
        "from sklearn.metrics import silhouette_score"
      ]
    },
    {
      "cell_type": "code",
      "execution_count": 47,
      "metadata": {
        "colab": {
          "base_uri": "https://localhost:8080/"
        },
        "id": "BhLHK8THvyxw",
        "outputId": "7c2a54b0-fdda-407e-a194-3a2d28840040"
      },
      "outputs": [
        {
          "output_type": "stream",
          "name": "stdout",
          "text": [
            "Silhouette Score for 2 clusters: 0.45421907210414214\n",
            "Silhouette Score for 3 clusters: 0.3180902156279954\n",
            "Silhouette Score for 4 clusters: 0.13602999771899232\n",
            "Silhouette Score for 5 clusters: 0.16195986543258523\n",
            "Silhouette Score for 6 clusters: 0.22945281939930115\n",
            "Silhouette Score for 7 clusters: 0.24214267818856985\n",
            "Silhouette Score for 8 clusters: 0.3051367809988358\n",
            "Silhouette Score for 9 clusters: 0.29774346557180853\n",
            "Silhouette Score for 10 clusters: 0.2936409237035898\n"
          ]
        }
      ],
      "source": [
        "K = range(2,11)\n",
        "\n",
        "for k in K:\n",
        "    model = AgglomerativeClustering(n_clusters = k)\n",
        "    model.fit_predict(X)\n",
        "    print(f'Silhouette Score for {k} clusters: {silhouette_score(df, model.labels_)}')"
      ]
    },
    {
      "cell_type": "code",
      "execution_count": 48,
      "metadata": {
        "colab": {
          "base_uri": "https://localhost:8080/",
          "height": 206
        },
        "id": "WlopL8Qzvyxw",
        "outputId": "53f803b3-287e-4fb0-9426-81dc23b16bab"
      },
      "outputs": [
        {
          "output_type": "execute_result",
          "data": {
            "text/plain": [
              "     Murder   Assault  UrbanPop      Rape\n",
              "0  0.000000  0.000000  0.440678  0.000000\n",
              "1  0.078313  0.003425  0.271186  0.012920\n",
              "2  0.078313  0.010274  0.813559  0.025840\n",
              "3  0.084337  0.027397  0.305085  0.051680\n",
              "4  0.084337  0.037671  1.000000  0.056848"
            ],
            "text/html": [
              "\n",
              "  <div id=\"df-31c7662a-145a-4e15-80b3-7c3ea711256e\">\n",
              "    <div class=\"colab-df-container\">\n",
              "      <div>\n",
              "<style scoped>\n",
              "    .dataframe tbody tr th:only-of-type {\n",
              "        vertical-align: middle;\n",
              "    }\n",
              "\n",
              "    .dataframe tbody tr th {\n",
              "        vertical-align: top;\n",
              "    }\n",
              "\n",
              "    .dataframe thead th {\n",
              "        text-align: right;\n",
              "    }\n",
              "</style>\n",
              "<table border=\"1\" class=\"dataframe\">\n",
              "  <thead>\n",
              "    <tr style=\"text-align: right;\">\n",
              "      <th></th>\n",
              "      <th>Murder</th>\n",
              "      <th>Assault</th>\n",
              "      <th>UrbanPop</th>\n",
              "      <th>Rape</th>\n",
              "    </tr>\n",
              "  </thead>\n",
              "  <tbody>\n",
              "    <tr>\n",
              "      <th>0</th>\n",
              "      <td>0.000000</td>\n",
              "      <td>0.000000</td>\n",
              "      <td>0.440678</td>\n",
              "      <td>0.000000</td>\n",
              "    </tr>\n",
              "    <tr>\n",
              "      <th>1</th>\n",
              "      <td>0.078313</td>\n",
              "      <td>0.003425</td>\n",
              "      <td>0.271186</td>\n",
              "      <td>0.012920</td>\n",
              "    </tr>\n",
              "    <tr>\n",
              "      <th>2</th>\n",
              "      <td>0.078313</td>\n",
              "      <td>0.010274</td>\n",
              "      <td>0.813559</td>\n",
              "      <td>0.025840</td>\n",
              "    </tr>\n",
              "    <tr>\n",
              "      <th>3</th>\n",
              "      <td>0.084337</td>\n",
              "      <td>0.027397</td>\n",
              "      <td>0.305085</td>\n",
              "      <td>0.051680</td>\n",
              "    </tr>\n",
              "    <tr>\n",
              "      <th>4</th>\n",
              "      <td>0.084337</td>\n",
              "      <td>0.037671</td>\n",
              "      <td>1.000000</td>\n",
              "      <td>0.056848</td>\n",
              "    </tr>\n",
              "  </tbody>\n",
              "</table>\n",
              "</div>\n",
              "      <button class=\"colab-df-convert\" onclick=\"convertToInteractive('df-31c7662a-145a-4e15-80b3-7c3ea711256e')\"\n",
              "              title=\"Convert this dataframe to an interactive table.\"\n",
              "              style=\"display:none;\">\n",
              "        \n",
              "  <svg xmlns=\"http://www.w3.org/2000/svg\" height=\"24px\"viewBox=\"0 0 24 24\"\n",
              "       width=\"24px\">\n",
              "    <path d=\"M0 0h24v24H0V0z\" fill=\"none\"/>\n",
              "    <path d=\"M18.56 5.44l.94 2.06.94-2.06 2.06-.94-2.06-.94-.94-2.06-.94 2.06-2.06.94zm-11 1L8.5 8.5l.94-2.06 2.06-.94-2.06-.94L8.5 2.5l-.94 2.06-2.06.94zm10 10l.94 2.06.94-2.06 2.06-.94-2.06-.94-.94-2.06-.94 2.06-2.06.94z\"/><path d=\"M17.41 7.96l-1.37-1.37c-.4-.4-.92-.59-1.43-.59-.52 0-1.04.2-1.43.59L10.3 9.45l-7.72 7.72c-.78.78-.78 2.05 0 2.83L4 21.41c.39.39.9.59 1.41.59.51 0 1.02-.2 1.41-.59l7.78-7.78 2.81-2.81c.8-.78.8-2.07 0-2.86zM5.41 20L4 18.59l7.72-7.72 1.47 1.35L5.41 20z\"/>\n",
              "  </svg>\n",
              "      </button>\n",
              "      \n",
              "  <style>\n",
              "    .colab-df-container {\n",
              "      display:flex;\n",
              "      flex-wrap:wrap;\n",
              "      gap: 12px;\n",
              "    }\n",
              "\n",
              "    .colab-df-convert {\n",
              "      background-color: #E8F0FE;\n",
              "      border: none;\n",
              "      border-radius: 50%;\n",
              "      cursor: pointer;\n",
              "      display: none;\n",
              "      fill: #1967D2;\n",
              "      height: 32px;\n",
              "      padding: 0 0 0 0;\n",
              "      width: 32px;\n",
              "    }\n",
              "\n",
              "    .colab-df-convert:hover {\n",
              "      background-color: #E2EBFA;\n",
              "      box-shadow: 0px 1px 2px rgba(60, 64, 67, 0.3), 0px 1px 3px 1px rgba(60, 64, 67, 0.15);\n",
              "      fill: #174EA6;\n",
              "    }\n",
              "\n",
              "    [theme=dark] .colab-df-convert {\n",
              "      background-color: #3B4455;\n",
              "      fill: #D2E3FC;\n",
              "    }\n",
              "\n",
              "    [theme=dark] .colab-df-convert:hover {\n",
              "      background-color: #434B5C;\n",
              "      box-shadow: 0px 1px 3px 1px rgba(0, 0, 0, 0.15);\n",
              "      filter: drop-shadow(0px 1px 2px rgba(0, 0, 0, 0.3));\n",
              "      fill: #FFFFFF;\n",
              "    }\n",
              "  </style>\n",
              "\n",
              "      <script>\n",
              "        const buttonEl =\n",
              "          document.querySelector('#df-31c7662a-145a-4e15-80b3-7c3ea711256e button.colab-df-convert');\n",
              "        buttonEl.style.display =\n",
              "          google.colab.kernel.accessAllowed ? 'block' : 'none';\n",
              "\n",
              "        async function convertToInteractive(key) {\n",
              "          const element = document.querySelector('#df-31c7662a-145a-4e15-80b3-7c3ea711256e');\n",
              "          const dataTable =\n",
              "            await google.colab.kernel.invokeFunction('convertToInteractive',\n",
              "                                                     [key], {});\n",
              "          if (!dataTable) return;\n",
              "\n",
              "          const docLinkHtml = 'Like what you see? Visit the ' +\n",
              "            '<a target=\"_blank\" href=https://colab.research.google.com/notebooks/data_table.ipynb>data table notebook</a>'\n",
              "            + ' to learn more about interactive tables.';\n",
              "          element.innerHTML = '';\n",
              "          dataTable['output_type'] = 'display_data';\n",
              "          await google.colab.output.renderOutput(dataTable, element);\n",
              "          const docLink = document.createElement('div');\n",
              "          docLink.innerHTML = docLinkHtml;\n",
              "          element.appendChild(docLink);\n",
              "        }\n",
              "      </script>\n",
              "    </div>\n",
              "  </div>\n",
              "  "
            ]
          },
          "metadata": {},
          "execution_count": 48
        }
      ],
      "source": [
        "X.head()"
      ]
    },
    {
      "cell_type": "code",
      "execution_count": 49,
      "metadata": {
        "id": "16ucRFwlvyxw"
      },
      "outputs": [],
      "source": [
        "model = AgglomerativeClustering(n_clusters=3, affinity = \"euclidean\", linkage = \"ward\") \n",
        "clusters = model.fit_predict(X)\n",
        "X[\"cluster\"] = clusters"
      ]
    },
    {
      "cell_type": "code",
      "execution_count": 50,
      "metadata": {
        "colab": {
          "base_uri": "https://localhost:8080/",
          "height": 392
        },
        "id": "g9JwEDZXvyxx",
        "outputId": "1116e6d3-c7df-4265-ad62-d8da9951dd6a"
      },
      "outputs": [
        {
          "output_type": "execute_result",
          "data": {
            "text/plain": [
              "<matplotlib.collections.PathCollection at 0x7f0e5e7d04d0>"
            ]
          },
          "metadata": {},
          "execution_count": 50
        },
        {
          "output_type": "display_data",
          "data": {
            "text/plain": [
              "<Figure size 720x432 with 1 Axes>"
            ],
            "image/png": "[encoded data removed]"
          },
          "metadata": {
            "needs_background": "light"
          }
        }
      ],
      "source": [
        "plt.scatter(X.Murder, X.Assault, c = clusters, cmap = \"viridis\")"
      ]
    },
    {
      "cell_type": "code",
      "execution_count": 51,
      "metadata": {
        "colab": {
          "base_uri": "https://localhost:8080/",
          "height": 392
        },
        "id": "Ok2e8L8avyxx",
        "outputId": "45a20158-6799-4fa1-ead2-e7f0b07485aa"
      },
      "outputs": [
        {
          "output_type": "execute_result",
          "data": {
            "text/plain": [
              "<matplotlib.collections.PathCollection at 0x7f0e5e7d0d10>"
            ]
          },
          "metadata": {},
          "execution_count": 51
        },
        {
          "output_type": "display_data",
          "data": {
            "text/plain": [
              "<Figure size 720x432 with 1 Axes>"
            ],
            "image/png": "[encoded data removed]"
          },
          "metadata": {
            "needs_background": "light"
          }
        }
      ],
      "source": [
        "plt.scatter(X.Murder, X.UrbanPop, c = clusters, cmap = \"viridis\") # urban ile yaparsak"
      ]
    },
    {
      "cell_type": "code",
      "execution_count": 52,
      "metadata": {
        "scrolled": true,
        "colab": {
          "base_uri": "https://localhost:8080/",
          "height": 175
        },
        "id": "bk5pkbUwvyxx",
        "outputId": "69e45591-f6cc-4e3e-a0f9-41085f1e807e"
      },
      "outputs": [
        {
          "output_type": "execute_result",
          "data": {
            "text/plain": [
              "cluster          0         1         2\n",
              "Murder    0.226135  0.522490  0.814592\n",
              "Assault   0.215227  0.561872  0.834475\n",
              "UrbanPop  0.543025  0.731073  0.370998\n",
              "Rape      0.190320  0.428079  0.736721"
            ],
            "text/html": [
              "\n",
              "  <div id=\"df-afccbfd6-d569-4dc7-a44d-ada73cefa9ea\">\n",
              "    <div class=\"colab-df-container\">\n",
              "      <div>\n",
              "<style scoped>\n",
              "    .dataframe tbody tr th:only-of-type {\n",
              "        vertical-align: middle;\n",
              "    }\n",
              "\n",
              "    .dataframe tbody tr th {\n",
              "        vertical-align: top;\n",
              "    }\n",
              "\n",
              "    .dataframe thead th {\n",
              "        text-align: right;\n",
              "    }\n",
              "</style>\n",
              "<table border=\"1\" class=\"dataframe\">\n",
              "  <thead>\n",
              "    <tr style=\"text-align: right;\">\n",
              "      <th>cluster</th>\n",
              "      <th>0</th>\n",
              "      <th>1</th>\n",
              "      <th>2</th>\n",
              "    </tr>\n",
              "  </thead>\n",
              "  <tbody>\n",
              "    <tr>\n",
              "      <th>Murder</th>\n",
              "      <td>0.226135</td>\n",
              "      <td>0.522490</td>\n",
              "      <td>0.814592</td>\n",
              "    </tr>\n",
              "    <tr>\n",
              "      <th>Assault</th>\n",
              "      <td>0.215227</td>\n",
              "      <td>0.561872</td>\n",
              "      <td>0.834475</td>\n",
              "    </tr>\n",
              "    <tr>\n",
              "      <th>UrbanPop</th>\n",
              "      <td>0.543025</td>\n",
              "      <td>0.731073</td>\n",
              "      <td>0.370998</td>\n",
              "    </tr>\n",
              "    <tr>\n",
              "      <th>Rape</th>\n",
              "      <td>0.190320</td>\n",
              "      <td>0.428079</td>\n",
              "      <td>0.736721</td>\n",
              "    </tr>\n",
              "  </tbody>\n",
              "</table>\n",
              "</div>\n",
              "      <button class=\"colab-df-convert\" onclick=\"convertToInteractive('df-afccbfd6-d569-4dc7-a44d-ada73cefa9ea')\"\n",
              "              title=\"Convert this dataframe to an interactive table.\"\n",
              "              style=\"display:none;\">\n",
              "        \n",
              "  <svg xmlns=\"http://www.w3.org/2000/svg\" height=\"24px\"viewBox=\"0 0 24 24\"\n",
              "       width=\"24px\">\n",
              "    <path d=\"M0 0h24v24H0V0z\" fill=\"none\"/>\n",
              "    <path d=\"M18.56 5.44l.94 2.06.94-2.06 2.06-.94-2.06-.94-.94-2.06-.94 2.06-2.06.94zm-11 1L8.5 8.5l.94-2.06 2.06-.94-2.06-.94L8.5 2.5l-.94 2.06-2.06.94zm10 10l.94 2.06.94-2.06 2.06-.94-2.06-.94-.94-2.06-.94 2.06-2.06.94z\"/><path d=\"M17.41 7.96l-1.37-1.37c-.4-.4-.92-.59-1.43-.59-.52 0-1.04.2-1.43.59L10.3 9.45l-7.72 7.72c-.78.78-.78 2.05 0 2.83L4 21.41c.39.39.9.59 1.41.59.51 0 1.02-.2 1.41-.59l7.78-7.78 2.81-2.81c.8-.78.8-2.07 0-2.86zM5.41 20L4 18.59l7.72-7.72 1.47 1.35L5.41 20z\"/>\n",
              "  </svg>\n",
              "      </button>\n",
              "      \n",
              "  <style>\n",
              "    .colab-df-container {\n",
              "      display:flex;\n",
              "      flex-wrap:wrap;\n",
              "      gap: 12px;\n",
              "    }\n",
              "\n",
              "    .colab-df-convert {\n",
              "      background-color: #E8F0FE;\n",
              "      border: none;\n",
              "      border-radius: 50%;\n",
              "      cursor: pointer;\n",
              "      display: none;\n",
              "      fill: #1967D2;\n",
              "      height: 32px;\n",
              "      padding: 0 0 0 0;\n",
              "      width: 32px;\n",
              "    }\n",
              "\n",
              "    .colab-df-convert:hover {\n",
              "      background-color: #E2EBFA;\n",
              "      box-shadow: 0px 1px 2px rgba(60, 64, 67, 0.3), 0px 1px 3px 1px rgba(60, 64, 67, 0.15);\n",
              "      fill: #174EA6;\n",
              "    }\n",
              "\n",
              "    [theme=dark] .colab-df-convert {\n",
              "      background-color: #3B4455;\n",
              "      fill: #D2E3FC;\n",
              "    }\n",
              "\n",
              "    [theme=dark] .colab-df-convert:hover {\n",
              "      background-color: #434B5C;\n",
              "      box-shadow: 0px 1px 3px 1px rgba(0, 0, 0, 0.15);\n",
              "      filter: drop-shadow(0px 1px 2px rgba(0, 0, 0, 0.3));\n",
              "      fill: #FFFFFF;\n",
              "    }\n",
              "  </style>\n",
              "\n",
              "      <script>\n",
              "        const buttonEl =\n",
              "          document.querySelector('#df-afccbfd6-d569-4dc7-a44d-ada73cefa9ea button.colab-df-convert');\n",
              "        buttonEl.style.display =\n",
              "          google.colab.kernel.accessAllowed ? 'block' : 'none';\n",
              "\n",
              "        async function convertToInteractive(key) {\n",
              "          const element = document.querySelector('#df-afccbfd6-d569-4dc7-a44d-ada73cefa9ea');\n",
              "          const dataTable =\n",
              "            await google.colab.kernel.invokeFunction('convertToInteractive',\n",
              "                                                     [key], {});\n",
              "          if (!dataTable) return;\n",
              "\n",
              "          const docLinkHtml = 'Like what you see? Visit the ' +\n",
              "            '<a target=\"_blank\" href=https://colab.research.google.com/notebooks/data_table.ipynb>data table notebook</a>'\n",
              "            + ' to learn more about interactive tables.';\n",
              "          element.innerHTML = '';\n",
              "          dataTable['output_type'] = 'display_data';\n",
              "          await google.colab.output.renderOutput(dataTable, element);\n",
              "          const docLink = document.createElement('div');\n",
              "          docLink.innerHTML = docLinkHtml;\n",
              "          element.appendChild(docLink);\n",
              "        }\n",
              "      </script>\n",
              "    </div>\n",
              "  </div>\n",
              "  "
            ]
          },
          "metadata": {},
          "execution_count": 52
        }
      ],
      "source": [
        "clus_pred = X.groupby(\"cluster\").mean().T    \n",
        "clus_pred"
      ]
    },
    {
      "cell_type": "code",
      "execution_count": 53,
      "metadata": {
        "colab": {
          "base_uri": "https://localhost:8080/",
          "height": 392
        },
        "id": "NCOw3dt0vyxx",
        "outputId": "9ff08e9b-354b-4c8f-a72e-a253506a015d"
      },
      "outputs": [
        {
          "output_type": "execute_result",
          "data": {
            "text/plain": [
              "<matplotlib.axes._subplots.AxesSubplot at 0x7f0e5e6122d0>"
            ]
          },
          "metadata": {},
          "execution_count": 53
        },
        {
          "output_type": "display_data",
          "data": {
            "text/plain": [
              "<Figure size 720x432 with 1 Axes>"
            ],
            "image/png": "[encoded data removed]"
          },
          "metadata": {
            "needs_background": "light"
          }
        }
      ],
      "source": [
        "sns.lineplot(data = clus_pred)"
      ]
    },
    {
      "cell_type": "code",
      "source": [
        "#murder ayrılıyor , urbanpop ta sıkıntı var ters ilişki var, Rape : iyi \n",
        "# urbanpop çıkararak modellling yapalım"
      ],
      "metadata": {
        "id": "M5VmtLsDyn6-"
      },
      "execution_count": null,
      "outputs": []
    },
    {
      "cell_type": "code",
      "execution_count": 54,
      "metadata": {
        "colab": {
          "base_uri": "https://localhost:8080/",
          "height": 388
        },
        "id": "ZxTRFAXHvyxx",
        "outputId": "740be4e8-a4ee-4533-8377-fe3623d53854"
      },
      "outputs": [
        {
          "output_type": "display_data",
          "data": {
            "text/plain": [
              "<Figure size 1440x432 with 4 Axes>"
            ],
            "image/png": "[encoded data removed]"
          },
          "metadata": {
            "needs_background": "light"
          }
        }
      ],
      "source": [
        "plt.figure(figsize = (20,6))\n",
        "\n",
        "plt.subplot(141)\n",
        "sns.boxplot(y = \"Murder\", x = \"cluster\", data = X)\n",
        "\n",
        "plt.subplot(142)\n",
        "sns.boxplot(y = \"Assault\", x = \"cluster\", data = X)\n",
        "\n",
        "plt.subplot(143)\n",
        "sns.boxplot(y = \"Rape\", x = \"cluster\", data = X)\n",
        "\n",
        "plt.subplot(144)\n",
        "sns.boxplot(y = \"UrbanPop\", x = \"cluster\", data = X);"
      ]
    },
    {
      "cell_type": "code",
      "source": [
        "# burada da urbanpop da intersection olduğunu görebiliriz."
      ],
      "metadata": {
        "id": "Yvbaoi5zy-a0"
      },
      "execution_count": 69,
      "outputs": []
    },
    {
      "cell_type": "code",
      "execution_count": 55,
      "metadata": {
        "colab": {
          "base_uri": "https://localhost:8080/"
        },
        "id": "PIS6K5Z6vyxy",
        "outputId": "e63b1793-df56-422d-c17c-dfc8b42026dc"
      },
      "outputs": [
        {
          "output_type": "execute_result",
          "data": {
            "text/plain": [
              "0    26\n",
              "1    15\n",
              "2     9\n",
              "Name: cluster, dtype: int64"
            ]
          },
          "metadata": {},
          "execution_count": 55
        }
      ],
      "source": [
        "X.cluster.value_counts()"
      ]
    },
    {
      "cell_type": "code",
      "execution_count": 72,
      "metadata": {
        "colab": {
          "base_uri": "https://localhost:8080/",
          "height": 206
        },
        "id": "w3XY97XHvyxy",
        "outputId": "e80874e4-dbe9-48b3-cf28-6d50e501ad8f"
      },
      "outputs": [
        {
          "output_type": "execute_result",
          "data": {
            "text/plain": [
              "     Murder   Assault      Rape\n",
              "0  0.000000  0.000000  0.000000\n",
              "1  0.078313  0.003425  0.012920\n",
              "2  0.078313  0.010274  0.025840\n",
              "3  0.084337  0.027397  0.051680\n",
              "4  0.084337  0.037671  0.056848"
            ],
            "text/html": [
              "\n",
              "  <div id=\"df-9c448255-1b5a-404b-9a28-1824e374e22f\">\n",
              "    <div class=\"colab-df-container\">\n",
              "      <div>\n",
              "<style scoped>\n",
              "    .dataframe tbody tr th:only-of-type {\n",
              "        vertical-align: middle;\n",
              "    }\n",
              "\n",
              "    .dataframe tbody tr th {\n",
              "        vertical-align: top;\n",
              "    }\n",
              "\n",
              "    .dataframe thead th {\n",
              "        text-align: right;\n",
              "    }\n",
              "</style>\n",
              "<table border=\"1\" class=\"dataframe\">\n",
              "  <thead>\n",
              "    <tr style=\"text-align: right;\">\n",
              "      <th></th>\n",
              "      <th>Murder</th>\n",
              "      <th>Assault</th>\n",
              "      <th>Rape</th>\n",
              "    </tr>\n",
              "  </thead>\n",
              "  <tbody>\n",
              "    <tr>\n",
              "      <th>0</th>\n",
              "      <td>0.000000</td>\n",
              "      <td>0.000000</td>\n",
              "      <td>0.000000</td>\n",
              "    </tr>\n",
              "    <tr>\n",
              "      <th>1</th>\n",
              "      <td>0.078313</td>\n",
              "      <td>0.003425</td>\n",
              "      <td>0.012920</td>\n",
              "    </tr>\n",
              "    <tr>\n",
              "      <th>2</th>\n",
              "      <td>0.078313</td>\n",
              "      <td>0.010274</td>\n",
              "      <td>0.025840</td>\n",
              "    </tr>\n",
              "    <tr>\n",
              "      <th>3</th>\n",
              "      <td>0.084337</td>\n",
              "      <td>0.027397</td>\n",
              "      <td>0.051680</td>\n",
              "    </tr>\n",
              "    <tr>\n",
              "      <th>4</th>\n",
              "      <td>0.084337</td>\n",
              "      <td>0.037671</td>\n",
              "      <td>0.056848</td>\n",
              "    </tr>\n",
              "  </tbody>\n",
              "</table>\n",
              "</div>\n",
              "      <button class=\"colab-df-convert\" onclick=\"convertToInteractive('df-9c448255-1b5a-404b-9a28-1824e374e22f')\"\n",
              "              title=\"Convert this dataframe to an interactive table.\"\n",
              "              style=\"display:none;\">\n",
              "        \n",
              "  <svg xmlns=\"http://www.w3.org/2000/svg\" height=\"24px\"viewBox=\"0 0 24 24\"\n",
              "       width=\"24px\">\n",
              "    <path d=\"M0 0h24v24H0V0z\" fill=\"none\"/>\n",
              "    <path d=\"M18.56 5.44l.94 2.06.94-2.06 2.06-.94-2.06-.94-.94-2.06-.94 2.06-2.06.94zm-11 1L8.5 8.5l.94-2.06 2.06-.94-2.06-.94L8.5 2.5l-.94 2.06-2.06.94zm10 10l.94 2.06.94-2.06 2.06-.94-2.06-.94-.94-2.06-.94 2.06-2.06.94z\"/><path d=\"M17.41 7.96l-1.37-1.37c-.4-.4-.92-.59-1.43-.59-.52 0-1.04.2-1.43.59L10.3 9.45l-7.72 7.72c-.78.78-.78 2.05 0 2.83L4 21.41c.39.39.9.59 1.41.59.51 0 1.02-.2 1.41-.59l7.78-7.78 2.81-2.81c.8-.78.8-2.07 0-2.86zM5.41 20L4 18.59l7.72-7.72 1.47 1.35L5.41 20z\"/>\n",
              "  </svg>\n",
              "      </button>\n",
              "      \n",
              "  <style>\n",
              "    .colab-df-container {\n",
              "      display:flex;\n",
              "      flex-wrap:wrap;\n",
              "      gap: 12px;\n",
              "    }\n",
              "\n",
              "    .colab-df-convert {\n",
              "      background-color: #E8F0FE;\n",
              "      border: none;\n",
              "      border-radius: 50%;\n",
              "      cursor: pointer;\n",
              "      display: none;\n",
              "      fill: #1967D2;\n",
              "      height: 32px;\n",
              "      padding: 0 0 0 0;\n",
              "      width: 32px;\n",
              "    }\n",
              "\n",
              "    .colab-df-convert:hover {\n",
              "      background-color: #E2EBFA;\n",
              "      box-shadow: 0px 1px 2px rgba(60, 64, 67, 0.3), 0px 1px 3px 1px rgba(60, 64, 67, 0.15);\n",
              "      fill: #174EA6;\n",
              "    }\n",
              "\n",
              "    [theme=dark] .colab-df-convert {\n",
              "      background-color: #3B4455;\n",
              "      fill: #D2E3FC;\n",
              "    }\n",
              "\n",
              "    [theme=dark] .colab-df-convert:hover {\n",
              "      background-color: #434B5C;\n",
              "      box-shadow: 0px 1px 3px 1px rgba(0, 0, 0, 0.15);\n",
              "      filter: drop-shadow(0px 1px 2px rgba(0, 0, 0, 0.3));\n",
              "      fill: #FFFFFF;\n",
              "    }\n",
              "  </style>\n",
              "\n",
              "      <script>\n",
              "        const buttonEl =\n",
              "          document.querySelector('#df-9c448255-1b5a-404b-9a28-1824e374e22f button.colab-df-convert');\n",
              "        buttonEl.style.display =\n",
              "          google.colab.kernel.accessAllowed ? 'block' : 'none';\n",
              "\n",
              "        async function convertToInteractive(key) {\n",
              "          const element = document.querySelector('#df-9c448255-1b5a-404b-9a28-1824e374e22f');\n",
              "          const dataTable =\n",
              "            await google.colab.kernel.invokeFunction('convertToInteractive',\n",
              "                                                     [key], {});\n",
              "          if (!dataTable) return;\n",
              "\n",
              "          const docLinkHtml = 'Like what you see? Visit the ' +\n",
              "            '<a target=\"_blank\" href=https://colab.research.google.com/notebooks/data_table.ipynb>data table notebook</a>'\n",
              "            + ' to learn more about interactive tables.';\n",
              "          element.innerHTML = '';\n",
              "          dataTable['output_type'] = 'display_data';\n",
              "          await google.colab.output.renderOutput(dataTable, element);\n",
              "          const docLink = document.createElement('div');\n",
              "          docLink.innerHTML = docLinkHtml;\n",
              "          element.appendChild(docLink);\n",
              "        }\n",
              "      </script>\n",
              "    </div>\n",
              "  </div>\n",
              "  "
            ]
          },
          "metadata": {},
          "execution_count": 72
        }
      ],
      "source": [
        "X2 = X.iloc[:, [0,1,3]]\n",
        "X2.head()"
      ]
    },
    {
      "cell_type": "markdown",
      "metadata": {
        "id": "5ET-WZN7vyxy"
      },
      "source": [
        "# **Hopkins test**"
      ]
    },
    {
      "cell_type": "code",
      "execution_count": 73,
      "metadata": {
        "colab": {
          "base_uri": "https://localhost:8080/"
        },
        "id": "13UJPPwjvyxy",
        "outputId": "0e22c317-a763-43cf-a450-90bb334acad9"
      },
      "outputs": [
        {
          "output_type": "execute_result",
          "data": {
            "text/plain": [
              "0.07217286384347982"
            ]
          },
          "metadata": {},
          "execution_count": 73
        }
      ],
      "source": [
        "hopkins(X2, X2.shape[0])    # Değer düştü 0.07    0 sıfıra yaklaştı(+) ve urbanın sıkıntılı olduğunu anlamış olduk."
      ]
    },
    {
      "cell_type": "code",
      "execution_count": 74,
      "metadata": {
        "id": "irSN-6ssvyxy"
      },
      "outputs": [],
      "source": [
        "hc_ward = linkage(y = X2, method = \"ward\")\n",
        "hc_complete = linkage(X2, \"complete\")\n",
        "hc_average = linkage(X2, \"average\")\n",
        "hc_single = linkage(X2, \"single\")"
      ]
    },
    {
      "cell_type": "code",
      "execution_count": 59,
      "metadata": {
        "colab": {
          "base_uri": "https://localhost:8080/",
          "height": 730
        },
        "id": "IMb__z_Wvyxy",
        "outputId": "cc8ad5a1-28a0-4214-9433-02ccfe03fa78"
      },
      "outputs": [
        {
          "output_type": "display_data",
          "data": {
            "text/plain": [
              "<Figure size 1440x864 with 4 Axes>"
            ],
            "image/png": "[encoded data removed]"
          },
          "metadata": {
            "needs_background": "light"
          }
        }
      ],
      "source": [
        "plt.figure(figsize = (20,12))\n",
        "\n",
        "plt.subplot(221)\n",
        "plt.title(\"Ward\")\n",
        "plt.xlabel(\"Observations\")\n",
        "plt.ylabel(\"Distance\")\n",
        "dendrogram(hc_ward, truncate_mode = \"lastp\", p = 10, show_contracted = True, leaf_font_size = 10)\n",
        "\n",
        "plt.subplot(222)\n",
        "plt.title(\"Complete\")\n",
        "plt.xlabel(\"Observations\")\n",
        "plt.ylabel(\"Distance\")\n",
        "dendrogram(hc_complete, truncate_mode = \"lastp\", p = 10, show_contracted = True, leaf_font_size = 10)\n",
        "\n",
        "plt.subplot(223)\n",
        "plt.title(\"Average\")\n",
        "plt.xlabel(\"Observations\")\n",
        "plt.ylabel(\"Distance\")\n",
        "dendrogram(hc_average, truncate_mode = \"lastp\", p = 10, show_contracted = True, leaf_font_size = 10)\n",
        "\n",
        "plt.subplot(224)\n",
        "plt.title(\"Single\")\n",
        "plt.xlabel(\"Observations\")\n",
        "plt.ylabel(\"Distance\")\n",
        "dendrogram(hc_single, truncate_mode = \"lastp\", p = 10, show_contracted = True, leaf_font_size = 10);"
      ]
    },
    {
      "cell_type": "code",
      "execution_count": 60,
      "metadata": {
        "colab": {
          "base_uri": "https://localhost:8080/"
        },
        "id": "MOBQvh5Dvyxz",
        "outputId": "9197b436-fe94-4751-f658-88064a85ea5b"
      },
      "outputs": [
        {
          "output_type": "stream",
          "name": "stdout",
          "text": [
            "Silhouette Score for 2 clusters: 0.5843563041221426\n",
            "Silhouette Score for 3 clusters: 0.5408473507473215\n",
            "Silhouette Score for 4 clusters: 0.49680242574181405\n",
            "Silhouette Score for 5 clusters: 0.4610301160129345\n",
            "Silhouette Score for 6 clusters: 0.45309851046082883\n",
            "Silhouette Score for 7 clusters: 0.39604153006494913\n",
            "Silhouette Score for 8 clusters: 0.39684807539987044\n",
            "Silhouette Score for 9 clusters: 0.3700971634671143\n",
            "Silhouette Score for 10 clusters: 0.36251487312336017\n"
          ]
        }
      ],
      "source": [
        "K = range(2,11)\n",
        "\n",
        "for k in K:\n",
        "    model = AgglomerativeClustering(n_clusters = k)\n",
        "    model.fit_predict(X2)\n",
        "    print(f'Silhouette Score for {k} clusters: {silhouette_score(df, model.labels_)}')"
      ]
    },
    {
      "cell_type": "code",
      "execution_count": 61,
      "metadata": {
        "id": "vosHzcNxvyxz"
      },
      "outputs": [],
      "source": [
        "final_model = AgglomerativeClustering(n_clusters=3, affinity = \"euclidean\", linkage = \"ward\")\n",
        "clusters = final_model.fit_predict(X2)\n",
        "X2[\"cluster\"] = clusters"
      ]
    },
    {
      "cell_type": "code",
      "execution_count": 62,
      "metadata": {
        "colab": {
          "base_uri": "https://localhost:8080/"
        },
        "id": "sl3OqXeUvyxz",
        "outputId": "05c49550-3b21-46ad-8b41-dcdd0804f5a8"
      },
      "outputs": [
        {
          "output_type": "execute_result",
          "data": {
            "text/plain": [
              "1    20\n",
              "0    16\n",
              "2    14\n",
              "Name: cluster, dtype: int64"
            ]
          },
          "metadata": {},
          "execution_count": 62
        }
      ],
      "source": [
        "X2.cluster.value_counts()"
      ]
    },
    {
      "cell_type": "code",
      "execution_count": 63,
      "metadata": {
        "colab": {
          "base_uri": "https://localhost:8080/",
          "height": 406
        },
        "id": "aj9-HV2Gvyxz",
        "outputId": "5efb2b97-d17f-4d09-a383-4a22bf149eae"
      },
      "outputs": [
        {
          "output_type": "execute_result",
          "data": {
            "text/plain": [
              "<matplotlib.axes._subplots.AxesSubplot at 0x7f0e58dfd690>"
            ]
          },
          "metadata": {},
          "execution_count": 63
        },
        {
          "output_type": "display_data",
          "data": {
            "text/plain": [
              "<Figure size 1440x432 with 3 Axes>"
            ],
            "image/png": "[encoded data removed]"
          },
          "metadata": {
            "needs_background": "light"
          }
        }
      ],
      "source": [
        "plt.figure(figsize = (20,6))\n",
        "\n",
        "plt.subplot(131)\n",
        "sns.boxplot(y = \"Murder\", x = \"cluster\", data = X2)\n",
        "\n",
        "plt.subplot(132)\n",
        "sns.boxplot(y = \"Assault\", x = \"cluster\", data = X2)\n",
        "\n",
        "plt.subplot(133)\n",
        "sns.boxplot(y = \"Rape\", x = \"cluster\", data = X2)"
      ]
    },
    {
      "cell_type": "markdown",
      "metadata": {
        "id": "f9Q9Tbdjvyxz"
      },
      "source": [
        "# **Evaluation**\n",
        "\n",
        "- 0 : states with high crime rates\n",
        "- 1 : states with low crime rates\n",
        "- 2 : states with medium crime rates"
      ]
    },
    {
      "cell_type": "code",
      "execution_count": 64,
      "metadata": {
        "colab": {
          "base_uri": "https://localhost:8080/",
          "height": 206
        },
        "id": "ykH5FsOkvyx0",
        "outputId": "02ab8782-6186-4b8a-8fb7-34cb8371945d"
      },
      "outputs": [
        {
          "output_type": "execute_result",
          "data": {
            "text/plain": [
              "     Murder   Assault      Rape  cluster crime_level\n",
              "0  0.000000  0.000000  0.000000        1         low\n",
              "1  0.078313  0.003425  0.012920        1         low\n",
              "2  0.078313  0.010274  0.025840        1         low\n",
              "3  0.084337  0.027397  0.051680        1         low\n",
              "4  0.084337  0.037671  0.056848        1         low"
            ],
            "text/html": [
              "\n",
              "  <div id=\"df-d6ab7b81-5b09-42c0-8672-9a1c61653bbe\">\n",
              "    <div class=\"colab-df-container\">\n",
              "      <div>\n",
              "<style scoped>\n",
              "    .dataframe tbody tr th:only-of-type {\n",
              "        vertical-align: middle;\n",
              "    }\n",
              "\n",
              "    .dataframe tbody tr th {\n",
              "        vertical-align: top;\n",
              "    }\n",
              "\n",
              "    .dataframe thead th {\n",
              "        text-align: right;\n",
              "    }\n",
              "</style>\n",
              "<table border=\"1\" class=\"dataframe\">\n",
              "  <thead>\n",
              "    <tr style=\"text-align: right;\">\n",
              "      <th></th>\n",
              "      <th>Murder</th>\n",
              "      <th>Assault</th>\n",
              "      <th>Rape</th>\n",
              "      <th>cluster</th>\n",
              "      <th>crime_level</th>\n",
              "    </tr>\n",
              "  </thead>\n",
              "  <tbody>\n",
              "    <tr>\n",
              "      <th>0</th>\n",
              "      <td>0.000000</td>\n",
              "      <td>0.000000</td>\n",
              "      <td>0.000000</td>\n",
              "      <td>1</td>\n",
              "      <td>low</td>\n",
              "    </tr>\n",
              "    <tr>\n",
              "      <th>1</th>\n",
              "      <td>0.078313</td>\n",
              "      <td>0.003425</td>\n",
              "      <td>0.012920</td>\n",
              "      <td>1</td>\n",
              "      <td>low</td>\n",
              "    </tr>\n",
              "    <tr>\n",
              "      <th>2</th>\n",
              "      <td>0.078313</td>\n",
              "      <td>0.010274</td>\n",
              "      <td>0.025840</td>\n",
              "      <td>1</td>\n",
              "      <td>low</td>\n",
              "    </tr>\n",
              "    <tr>\n",
              "      <th>3</th>\n",
              "      <td>0.084337</td>\n",
              "      <td>0.027397</td>\n",
              "      <td>0.051680</td>\n",
              "      <td>1</td>\n",
              "      <td>low</td>\n",
              "    </tr>\n",
              "    <tr>\n",
              "      <th>4</th>\n",
              "      <td>0.084337</td>\n",
              "      <td>0.037671</td>\n",
              "      <td>0.056848</td>\n",
              "      <td>1</td>\n",
              "      <td>low</td>\n",
              "    </tr>\n",
              "  </tbody>\n",
              "</table>\n",
              "</div>\n",
              "      <button class=\"colab-df-convert\" onclick=\"convertToInteractive('df-d6ab7b81-5b09-42c0-8672-9a1c61653bbe')\"\n",
              "              title=\"Convert this dataframe to an interactive table.\"\n",
              "              style=\"display:none;\">\n",
              "        \n",
              "  <svg xmlns=\"http://www.w3.org/2000/svg\" height=\"24px\"viewBox=\"0 0 24 24\"\n",
              "       width=\"24px\">\n",
              "    <path d=\"M0 0h24v24H0V0z\" fill=\"none\"/>\n",
              "    <path d=\"M18.56 5.44l.94 2.06.94-2.06 2.06-.94-2.06-.94-.94-2.06-.94 2.06-2.06.94zm-11 1L8.5 8.5l.94-2.06 2.06-.94-2.06-.94L8.5 2.5l-.94 2.06-2.06.94zm10 10l.94 2.06.94-2.06 2.06-.94-2.06-.94-.94-2.06-.94 2.06-2.06.94z\"/><path d=\"M17.41 7.96l-1.37-1.37c-.4-.4-.92-.59-1.43-.59-.52 0-1.04.2-1.43.59L10.3 9.45l-7.72 7.72c-.78.78-.78 2.05 0 2.83L4 21.41c.39.39.9.59 1.41.59.51 0 1.02-.2 1.41-.59l7.78-7.78 2.81-2.81c.8-.78.8-2.07 0-2.86zM5.41 20L4 18.59l7.72-7.72 1.47 1.35L5.41 20z\"/>\n",
              "  </svg>\n",
              "      </button>\n",
              "      \n",
              "  <style>\n",
              "    .colab-df-container {\n",
              "      display:flex;\n",
              "      flex-wrap:wrap;\n",
              "      gap: 12px;\n",
              "    }\n",
              "\n",
              "    .colab-df-convert {\n",
              "      background-color: #E8F0FE;\n",
              "      border: none;\n",
              "      border-radius: 50%;\n",
              "      cursor: pointer;\n",
              "      display: none;\n",
              "      fill: #1967D2;\n",
              "      height: 32px;\n",
              "      padding: 0 0 0 0;\n",
              "      width: 32px;\n",
              "    }\n",
              "\n",
              "    .colab-df-convert:hover {\n",
              "      background-color: #E2EBFA;\n",
              "      box-shadow: 0px 1px 2px rgba(60, 64, 67, 0.3), 0px 1px 3px 1px rgba(60, 64, 67, 0.15);\n",
              "      fill: #174EA6;\n",
              "    }\n",
              "\n",
              "    [theme=dark] .colab-df-convert {\n",
              "      background-color: #3B4455;\n",
              "      fill: #D2E3FC;\n",
              "    }\n",
              "\n",
              "    [theme=dark] .colab-df-convert:hover {\n",
              "      background-color: #434B5C;\n",
              "      box-shadow: 0px 1px 3px 1px rgba(0, 0, 0, 0.15);\n",
              "      filter: drop-shadow(0px 1px 2px rgba(0, 0, 0, 0.3));\n",
              "      fill: #FFFFFF;\n",
              "    }\n",
              "  </style>\n",
              "\n",
              "      <script>\n",
              "        const buttonEl =\n",
              "          document.querySelector('#df-d6ab7b81-5b09-42c0-8672-9a1c61653bbe button.colab-df-convert');\n",
              "        buttonEl.style.display =\n",
              "          google.colab.kernel.accessAllowed ? 'block' : 'none';\n",
              "\n",
              "        async function convertToInteractive(key) {\n",
              "          const element = document.querySelector('#df-d6ab7b81-5b09-42c0-8672-9a1c61653bbe');\n",
              "          const dataTable =\n",
              "            await google.colab.kernel.invokeFunction('convertToInteractive',\n",
              "                                                     [key], {});\n",
              "          if (!dataTable) return;\n",
              "\n",
              "          const docLinkHtml = 'Like what you see? Visit the ' +\n",
              "            '<a target=\"_blank\" href=https://colab.research.google.com/notebooks/data_table.ipynb>data table notebook</a>'\n",
              "            + ' to learn more about interactive tables.';\n",
              "          element.innerHTML = '';\n",
              "          dataTable['output_type'] = 'display_data';\n",
              "          await google.colab.output.renderOutput(dataTable, element);\n",
              "          const docLink = document.createElement('div');\n",
              "          docLink.innerHTML = docLinkHtml;\n",
              "          element.appendChild(docLink);\n",
              "        }\n",
              "      </script>\n",
              "    </div>\n",
              "  </div>\n",
              "  "
            ]
          },
          "metadata": {},
          "execution_count": 64
        }
      ],
      "source": [
        "X2[\"crime_level\"] = X2[\"cluster\"].map({0:\"high\", 1:\"low\",2:\"medium\"})\n",
        "X2.head()"
      ]
    },
    {
      "cell_type": "code",
      "execution_count": 65,
      "metadata": {
        "colab": {
          "base_uri": "https://localhost:8080/"
        },
        "id": "KAT6erHQvyx0",
        "outputId": "6bcc74e8-32b1-46ad-ef7b-6f7ce5a43450"
      },
      "outputs": [
        {
          "output_type": "execute_result",
          "data": {
            "text/plain": [
              "Index(['Alabama', 'Alaska', 'Arizona', 'Arkansas', 'California', 'Colorado',\n",
              "       'Connecticut', 'Delaware', 'Florida', 'Georgia', 'Hawaii', 'Idaho',\n",
              "       'Illinois', 'Indiana', 'Iowa', 'Kansas', 'Kentucky', 'Louisiana',\n",
              "       'Maine', 'Maryland', 'Massachusetts', 'Michigan', 'Minnesota',\n",
              "       'Mississippi', 'Missouri', 'Montana', 'Nebraska', 'Nevada',\n",
              "       'New Hampshire', 'New Jersey', 'New Mexico', 'New York',\n",
              "       'North Carolina', 'North Dakota', 'Ohio', 'Oklahoma', 'Oregon',\n",
              "       'Pennsylvania', 'Rhode Island', 'South Carolina', 'South Dakota',\n",
              "       'Tennessee', 'Texas', 'Utah', 'Vermont', 'Virginia', 'Washington',\n",
              "       'West Virginia', 'Wisconsin', 'Wyoming'],\n",
              "      dtype='object')"
            ]
          },
          "metadata": {},
          "execution_count": 65
        }
      ],
      "source": [
        "df.index"
      ]
    },
    {
      "cell_type": "code",
      "execution_count": 66,
      "metadata": {
        "colab": {
          "base_uri": "https://localhost:8080/",
          "height": 1000
        },
        "id": "lfOiy12wvyx0",
        "outputId": "8f3783c1-9e31-40ca-f61d-0f9cc9160582"
      },
      "outputs": [
        {
          "output_type": "execute_result",
          "data": {
            "text/plain": [
              "      Murder   Assault      Rape  cluster crime_level          States\n",
              "0   0.000000  0.000000  0.000000        1         low         Alabama\n",
              "1   0.078313  0.003425  0.012920        1         low          Alaska\n",
              "2   0.078313  0.010274  0.025840        1         low         Arizona\n",
              "3   0.084337  0.027397  0.051680        1         low        Arkansas\n",
              "4   0.084337  0.037671  0.056848        1         low      California\n",
              "5   0.108434  0.041096  0.090439        1         low        Colorado\n",
              "6   0.108434  0.092466  0.098191        1         low     Connecticut\n",
              "7   0.114458  0.123288  0.100775        1         low        Delaware\n",
              "8   0.144578  0.130137  0.103359        1         low         Florida\n",
              "9   0.150602  0.140411  0.142119        1         low         Georgia\n",
              "10  0.156627  0.195205  0.178295        1         low          Hawaii\n",
              "11  0.180723  0.208904  0.196382        1         low           Idaho\n",
              "12  0.192771  0.219178  0.196382        1         low        Illinois\n",
              "13  0.210843  0.219178  0.214470        1         low         Indiana\n",
              "14  0.216867  0.222603  0.219638        1         low            Iowa\n",
              "15  0.246988  0.232877  0.227390        1         low          Kansas\n",
              "16  0.271084  0.239726  0.232558        1         low        Kentucky\n",
              "17  0.295181  0.256849  0.232558        1         low       Louisiana\n",
              "18  0.307229  0.256849  0.235142        1         low           Maine\n",
              "19  0.313253  0.256849  0.237726        1         low        Maryland\n",
              "20  0.313253  0.342466  0.253230        2      medium   Massachusetts\n",
              "21  0.331325  0.356164  0.276486        2      medium        Michigan\n",
              "22  0.349398  0.363014  0.297158        2      medium       Minnesota\n",
              "23  0.361446  0.380137  0.315245        2      medium     Mississippi\n",
              "24  0.385542  0.390411  0.328165        2      medium        Missouri\n",
              "25  0.391566  0.390411  0.333333        2      medium         Montana\n",
              "26  0.397590  0.397260  0.346253        2      medium        Nebraska\n",
              "27  0.427711  0.441781  0.354005        2      medium          Nevada\n",
              "28  0.439759  0.455479  0.359173        2      medium   New Hampshire\n",
              "29  0.463855  0.489726  0.364341        2      medium      New Jersey\n",
              "30  0.481928  0.496575  0.385013        2      medium      New Mexico\n",
              "31  0.493976  0.534247  0.392765        2      medium        New York\n",
              "32  0.493976  0.544521  0.403101        2      medium  North Carolina\n",
              "33  0.536145  0.568493  0.431525        2      medium    North Dakota\n",
              "34  0.554217  0.654110  0.470284        0        high            Ohio\n",
              "35  0.578313  0.660959  0.478036        0        high        Oklahoma\n",
              "36  0.620482  0.698630  0.485788        0        high          Oregon\n",
              "37  0.632530  0.698630  0.488372        0        high    Pennsylvania\n",
              "38  0.638554  0.708904  0.506460        0        high    Rhode Island\n",
              "39  0.680723  0.715753  0.529716        0        high  South Carolina\n",
              "40  0.686747  0.719178  0.540052        0        high    South Dakota\n",
              "41  0.716867  0.732877  0.568475        0        high       Tennessee\n",
              "42  0.734940  0.746575  0.612403        0        high           Texas\n",
              "43  0.746988  0.791096  0.635659        0        high            Utah\n",
              "44  0.746988  0.801370  0.640827        0        high         Vermont\n",
              "45  0.819277  0.821918  0.718346        0        high        Virginia\n",
              "46  0.879518  0.852740  0.811370        0        high      Washington\n",
              "47  0.879518  0.873288  0.860465        0        high   West Virginia\n",
              "48  0.921687  0.993151  0.961240        0        high       Wisconsin\n",
              "49  1.000000  1.000000  1.000000        0        high         Wyoming"
            ],
            "text/html": [
              "\n",
              "  <div id=\"df-98eee9c7-821d-4a4d-a95d-77b9e7da5159\">\n",
              "    <div class=\"colab-df-container\">\n",
              "      <div>\n",
              "<style scoped>\n",
              "    .dataframe tbody tr th:only-of-type {\n",
              "        vertical-align: middle;\n",
              "    }\n",
              "\n",
              "    .dataframe tbody tr th {\n",
              "        vertical-align: top;\n",
              "    }\n",
              "\n",
              "    .dataframe thead th {\n",
              "        text-align: right;\n",
              "    }\n",
              "</style>\n",
              "<table border=\"1\" class=\"dataframe\">\n",
              "  <thead>\n",
              "    <tr style=\"text-align: right;\">\n",
              "      <th></th>\n",
              "      <th>Murder</th>\n",
              "      <th>Assault</th>\n",
              "      <th>Rape</th>\n",
              "      <th>cluster</th>\n",
              "      <th>crime_level</th>\n",
              "      <th>States</th>\n",
              "    </tr>\n",
              "  </thead>\n",
              "  <tbody>\n",
              "    <tr>\n",
              "      <th>0</th>\n",
              "      <td>0.000000</td>\n",
              "      <td>0.000000</td>\n",
              "      <td>0.000000</td>\n",
              "      <td>1</td>\n",
              "      <td>low</td>\n",
              "      <td>Alabama</td>\n",
              "    </tr>\n",
              "    <tr>\n",
              "      <th>1</th>\n",
              "      <td>0.078313</td>\n",
              "      <td>0.003425</td>\n",
              "      <td>0.012920</td>\n",
              "      <td>1</td>\n",
              "      <td>low</td>\n",
              "      <td>Alaska</td>\n",
              "    </tr>\n",
              "    <tr>\n",
              "      <th>2</th>\n",
              "      <td>0.078313</td>\n",
              "      <td>0.010274</td>\n",
              "      <td>0.025840</td>\n",
              "      <td>1</td>\n",
              "      <td>low</td>\n",
              "      <td>Arizona</td>\n",
              "    </tr>\n",
              "    <tr>\n",
              "      <th>3</th>\n",
              "      <td>0.084337</td>\n",
              "      <td>0.027397</td>\n",
              "      <td>0.051680</td>\n",
              "      <td>1</td>\n",
              "      <td>low</td>\n",
              "      <td>Arkansas</td>\n",
              "    </tr>\n",
              "    <tr>\n",
              "      <th>4</th>\n",
              "      <td>0.084337</td>\n",
              "      <td>0.037671</td>\n",
              "      <td>0.056848</td>\n",
              "      <td>1</td>\n",
              "      <td>low</td>\n",
              "      <td>California</td>\n",
              "    </tr>\n",
              "    <tr>\n",
              "      <th>5</th>\n",
              "      <td>0.108434</td>\n",
              "      <td>0.041096</td>\n",
              "      <td>0.090439</td>\n",
              "      <td>1</td>\n",
              "      <td>low</td>\n",
              "      <td>Colorado</td>\n",
              "    </tr>\n",
              "    <tr>\n",
              "      <th>6</th>\n",
              "      <td>0.108434</td>\n",
              "      <td>0.092466</td>\n",
              "      <td>0.098191</td>\n",
              "      <td>1</td>\n",
              "      <td>low</td>\n",
              "      <td>Connecticut</td>\n",
              "    </tr>\n",
              "    <tr>\n",
              "      <th>7</th>\n",
              "      <td>0.114458</td>\n",
              "      <td>0.123288</td>\n",
              "      <td>0.100775</td>\n",
              "      <td>1</td>\n",
              "      <td>low</td>\n",
              "      <td>Delaware</td>\n",
              "    </tr>\n",
              "    <tr>\n",
              "      <th>8</th>\n",
              "      <td>0.144578</td>\n",
              "      <td>0.130137</td>\n",
              "      <td>0.103359</td>\n",
              "      <td>1</td>\n",
              "      <td>low</td>\n",
              "      <td>Florida</td>\n",
              "    </tr>\n",
              "    <tr>\n",
              "      <th>9</th>\n",
              "      <td>0.150602</td>\n",
              "      <td>0.140411</td>\n",
              "      <td>0.142119</td>\n",
              "      <td>1</td>\n",
              "      <td>low</td>\n",
              "      <td>Georgia</td>\n",
              "    </tr>\n",
              "    <tr>\n",
              "      <th>10</th>\n",
              "      <td>0.156627</td>\n",
              "      <td>0.195205</td>\n",
              "      <td>0.178295</td>\n",
              "      <td>1</td>\n",
              "      <td>low</td>\n",
              "      <td>Hawaii</td>\n",
              "    </tr>\n",
              "    <tr>\n",
              "      <th>11</th>\n",
              "      <td>0.180723</td>\n",
              "      <td>0.208904</td>\n",
              "      <td>0.196382</td>\n",
              "      <td>1</td>\n",
              "      <td>low</td>\n",
              "      <td>Idaho</td>\n",
              "    </tr>\n",
              "    <tr>\n",
              "      <th>12</th>\n",
              "      <td>0.192771</td>\n",
              "      <td>0.219178</td>\n",
              "      <td>0.196382</td>\n",
              "      <td>1</td>\n",
              "      <td>low</td>\n",
              "      <td>Illinois</td>\n",
              "    </tr>\n",
              "    <tr>\n",
              "      <th>13</th>\n",
              "      <td>0.210843</td>\n",
              "      <td>0.219178</td>\n",
              "      <td>0.214470</td>\n",
              "      <td>1</td>\n",
              "      <td>low</td>\n",
              "      <td>Indiana</td>\n",
              "    </tr>\n",
              "    <tr>\n",
              "      <th>14</th>\n",
              "      <td>0.216867</td>\n",
              "      <td>0.222603</td>\n",
              "      <td>0.219638</td>\n",
              "      <td>1</td>\n",
              "      <td>low</td>\n",
              "      <td>Iowa</td>\n",
              "    </tr>\n",
              "    <tr>\n",
              "      <th>15</th>\n",
              "      <td>0.246988</td>\n",
              "      <td>0.232877</td>\n",
              "      <td>0.227390</td>\n",
              "      <td>1</td>\n",
              "      <td>low</td>\n",
              "      <td>Kansas</td>\n",
              "    </tr>\n",
              "    <tr>\n",
              "      <th>16</th>\n",
              "      <td>0.271084</td>\n",
              "      <td>0.239726</td>\n",
              "      <td>0.232558</td>\n",
              "      <td>1</td>\n",
              "      <td>low</td>\n",
              "      <td>Kentucky</td>\n",
              "    </tr>\n",
              "    <tr>\n",
              "      <th>17</th>\n",
              "      <td>0.295181</td>\n",
              "      <td>0.256849</td>\n",
              "      <td>0.232558</td>\n",
              "      <td>1</td>\n",
              "      <td>low</td>\n",
              "      <td>Louisiana</td>\n",
              "    </tr>\n",
              "    <tr>\n",
              "      <th>18</th>\n",
              "      <td>0.307229</td>\n",
              "      <td>0.256849</td>\n",
              "      <td>0.235142</td>\n",
              "      <td>1</td>\n",
              "      <td>low</td>\n",
              "      <td>Maine</td>\n",
              "    </tr>\n",
              "    <tr>\n",
              "      <th>19</th>\n",
              "      <td>0.313253</td>\n",
              "      <td>0.256849</td>\n",
              "      <td>0.237726</td>\n",
              "      <td>1</td>\n",
              "      <td>low</td>\n",
              "      <td>Maryland</td>\n",
              "    </tr>\n",
              "    <tr>\n",
              "      <th>20</th>\n",
              "      <td>0.313253</td>\n",
              "      <td>0.342466</td>\n",
              "      <td>0.253230</td>\n",
              "      <td>2</td>\n",
              "      <td>medium</td>\n",
              "      <td>Massachusetts</td>\n",
              "    </tr>\n",
              "    <tr>\n",
              "      <th>21</th>\n",
              "      <td>0.331325</td>\n",
              "      <td>0.356164</td>\n",
              "      <td>0.276486</td>\n",
              "      <td>2</td>\n",
              "      <td>medium</td>\n",
              "      <td>Michigan</td>\n",
              "    </tr>\n",
              "    <tr>\n",
              "      <th>22</th>\n",
              "      <td>0.349398</td>\n",
              "      <td>0.363014</td>\n",
              "      <td>0.297158</td>\n",
              "      <td>2</td>\n",
              "      <td>medium</td>\n",
              "      <td>Minnesota</td>\n",
              "    </tr>\n",
              "    <tr>\n",
              "      <th>23</th>\n",
              "      <td>0.361446</td>\n",
              "      <td>0.380137</td>\n",
              "      <td>0.315245</td>\n",
              "      <td>2</td>\n",
              "      <td>medium</td>\n",
              "      <td>Mississippi</td>\n",
              "    </tr>\n",
              "    <tr>\n",
              "      <th>24</th>\n",
              "      <td>0.385542</td>\n",
              "      <td>0.390411</td>\n",
              "      <td>0.328165</td>\n",
              "      <td>2</td>\n",
              "      <td>medium</td>\n",
              "      <td>Missouri</td>\n",
              "    </tr>\n",
              "    <tr>\n",
              "      <th>25</th>\n",
              "      <td>0.391566</td>\n",
              "      <td>0.390411</td>\n",
              "      <td>0.333333</td>\n",
              "      <td>2</td>\n",
              "      <td>medium</td>\n",
              "      <td>Montana</td>\n",
              "    </tr>\n",
              "    <tr>\n",
              "      <th>26</th>\n",
              "      <td>0.397590</td>\n",
              "      <td>0.397260</td>\n",
              "      <td>0.346253</td>\n",
              "      <td>2</td>\n",
              "      <td>medium</td>\n",
              "      <td>Nebraska</td>\n",
              "    </tr>\n",
              "    <tr>\n",
              "      <th>27</th>\n",
              "      <td>0.427711</td>\n",
              "      <td>0.441781</td>\n",
              "      <td>0.354005</td>\n",
              "      <td>2</td>\n",
              "      <td>medium</td>\n",
              "      <td>Nevada</td>\n",
              "    </tr>\n",
              "    <tr>\n",
              "      <th>28</th>\n",
              "      <td>0.439759</td>\n",
              "      <td>0.455479</td>\n",
              "      <td>0.359173</td>\n",
              "      <td>2</td>\n",
              "      <td>medium</td>\n",
              "      <td>New Hampshire</td>\n",
              "    </tr>\n",
              "    <tr>\n",
              "      <th>29</th>\n",
              "      <td>0.463855</td>\n",
              "      <td>0.489726</td>\n",
              "      <td>0.364341</td>\n",
              "      <td>2</td>\n",
              "      <td>medium</td>\n",
              "      <td>New Jersey</td>\n",
              "    </tr>\n",
              "    <tr>\n",
              "      <th>30</th>\n",
              "      <td>0.481928</td>\n",
              "      <td>0.496575</td>\n",
              "      <td>0.385013</td>\n",
              "      <td>2</td>\n",
              "      <td>medium</td>\n",
              "      <td>New Mexico</td>\n",
              "    </tr>\n",
              "    <tr>\n",
              "      <th>31</th>\n",
              "      <td>0.493976</td>\n",
              "      <td>0.534247</td>\n",
              "      <td>0.392765</td>\n",
              "      <td>2</td>\n",
              "      <td>medium</td>\n",
              "      <td>New York</td>\n",
              "    </tr>\n",
              "    <tr>\n",
              "      <th>32</th>\n",
              "      <td>0.493976</td>\n",
              "      <td>0.544521</td>\n",
              "      <td>0.403101</td>\n",
              "      <td>2</td>\n",
              "      <td>medium</td>\n",
              "      <td>North Carolina</td>\n",
              "    </tr>\n",
              "    <tr>\n",
              "      <th>33</th>\n",
              "      <td>0.536145</td>\n",
              "      <td>0.568493</td>\n",
              "      <td>0.431525</td>\n",
              "      <td>2</td>\n",
              "      <td>medium</td>\n",
              "      <td>North Dakota</td>\n",
              "    </tr>\n",
              "    <tr>\n",
              "      <th>34</th>\n",
              "      <td>0.554217</td>\n",
              "      <td>0.654110</td>\n",
              "      <td>0.470284</td>\n",
              "      <td>0</td>\n",
              "      <td>high</td>\n",
              "      <td>Ohio</td>\n",
              "    </tr>\n",
              "    <tr>\n",
              "      <th>35</th>\n",
              "      <td>0.578313</td>\n",
              "      <td>0.660959</td>\n",
              "      <td>0.478036</td>\n",
              "      <td>0</td>\n",
              "      <td>high</td>\n",
              "      <td>Oklahoma</td>\n",
              "    </tr>\n",
              "    <tr>\n",
              "      <th>36</th>\n",
              "      <td>0.620482</td>\n",
              "      <td>0.698630</td>\n",
              "      <td>0.485788</td>\n",
              "      <td>0</td>\n",
              "      <td>high</td>\n",
              "      <td>Oregon</td>\n",
              "    </tr>\n",
              "    <tr>\n",
              "      <th>37</th>\n",
              "      <td>0.632530</td>\n",
              "      <td>0.698630</td>\n",
              "      <td>0.488372</td>\n",
              "      <td>0</td>\n",
              "      <td>high</td>\n",
              "      <td>Pennsylvania</td>\n",
              "    </tr>\n",
              "    <tr>\n",
              "      <th>38</th>\n",
              "      <td>0.638554</td>\n",
              "      <td>0.708904</td>\n",
              "      <td>0.506460</td>\n",
              "      <td>0</td>\n",
              "      <td>high</td>\n",
              "      <td>Rhode Island</td>\n",
              "    </tr>\n",
              "    <tr>\n",
              "      <th>39</th>\n",
              "      <td>0.680723</td>\n",
              "      <td>0.715753</td>\n",
              "      <td>0.529716</td>\n",
              "      <td>0</td>\n",
              "      <td>high</td>\n",
              "      <td>South Carolina</td>\n",
              "    </tr>\n",
              "    <tr>\n",
              "      <th>40</th>\n",
              "      <td>0.686747</td>\n",
              "      <td>0.719178</td>\n",
              "      <td>0.540052</td>\n",
              "      <td>0</td>\n",
              "      <td>high</td>\n",
              "      <td>South Dakota</td>\n",
              "    </tr>\n",
              "    <tr>\n",
              "      <th>41</th>\n",
              "      <td>0.716867</td>\n",
              "      <td>0.732877</td>\n",
              "      <td>0.568475</td>\n",
              "      <td>0</td>\n",
              "      <td>high</td>\n",
              "      <td>Tennessee</td>\n",
              "    </tr>\n",
              "    <tr>\n",
              "      <th>42</th>\n",
              "      <td>0.734940</td>\n",
              "      <td>0.746575</td>\n",
              "      <td>0.612403</td>\n",
              "      <td>0</td>\n",
              "      <td>high</td>\n",
              "      <td>Texas</td>\n",
              "    </tr>\n",
              "    <tr>\n",
              "      <th>43</th>\n",
              "      <td>0.746988</td>\n",
              "      <td>0.791096</td>\n",
              "      <td>0.635659</td>\n",
              "      <td>0</td>\n",
              "      <td>high</td>\n",
              "      <td>Utah</td>\n",
              "    </tr>\n",
              "    <tr>\n",
              "      <th>44</th>\n",
              "      <td>0.746988</td>\n",
              "      <td>0.801370</td>\n",
              "      <td>0.640827</td>\n",
              "      <td>0</td>\n",
              "      <td>high</td>\n",
              "      <td>Vermont</td>\n",
              "    </tr>\n",
              "    <tr>\n",
              "      <th>45</th>\n",
              "      <td>0.819277</td>\n",
              "      <td>0.821918</td>\n",
              "      <td>0.718346</td>\n",
              "      <td>0</td>\n",
              "      <td>high</td>\n",
              "      <td>Virginia</td>\n",
              "    </tr>\n",
              "    <tr>\n",
              "      <th>46</th>\n",
              "      <td>0.879518</td>\n",
              "      <td>0.852740</td>\n",
              "      <td>0.811370</td>\n",
              "      <td>0</td>\n",
              "      <td>high</td>\n",
              "      <td>Washington</td>\n",
              "    </tr>\n",
              "    <tr>\n",
              "      <th>47</th>\n",
              "      <td>0.879518</td>\n",
              "      <td>0.873288</td>\n",
              "      <td>0.860465</td>\n",
              "      <td>0</td>\n",
              "      <td>high</td>\n",
              "      <td>West Virginia</td>\n",
              "    </tr>\n",
              "    <tr>\n",
              "      <th>48</th>\n",
              "      <td>0.921687</td>\n",
              "      <td>0.993151</td>\n",
              "      <td>0.961240</td>\n",
              "      <td>0</td>\n",
              "      <td>high</td>\n",
              "      <td>Wisconsin</td>\n",
              "    </tr>\n",
              "    <tr>\n",
              "      <th>49</th>\n",
              "      <td>1.000000</td>\n",
              "      <td>1.000000</td>\n",
              "      <td>1.000000</td>\n",
              "      <td>0</td>\n",
              "      <td>high</td>\n",
              "      <td>Wyoming</td>\n",
              "    </tr>\n",
              "  </tbody>\n",
              "</table>\n",
              "</div>\n",
              "      <button class=\"colab-df-convert\" onclick=\"convertToInteractive('df-98eee9c7-821d-4a4d-a95d-77b9e7da5159')\"\n",
              "              title=\"Convert this dataframe to an interactive table.\"\n",
              "              style=\"display:none;\">\n",
              "        \n",
              "  <svg xmlns=\"http://www.w3.org/2000/svg\" height=\"24px\"viewBox=\"0 0 24 24\"\n",
              "       width=\"24px\">\n",
              "    <path d=\"M0 0h24v24H0V0z\" fill=\"none\"/>\n",
              "    <path d=\"M18.56 5.44l.94 2.06.94-2.06 2.06-.94-2.06-.94-.94-2.06-.94 2.06-2.06.94zm-11 1L8.5 8.5l.94-2.06 2.06-.94-2.06-.94L8.5 2.5l-.94 2.06-2.06.94zm10 10l.94 2.06.94-2.06 2.06-.94-2.06-.94-.94-2.06-.94 2.06-2.06.94z\"/><path d=\"M17.41 7.96l-1.37-1.37c-.4-.4-.92-.59-1.43-.59-.52 0-1.04.2-1.43.59L10.3 9.45l-7.72 7.72c-.78.78-.78 2.05 0 2.83L4 21.41c.39.39.9.59 1.41.59.51 0 1.02-.2 1.41-.59l7.78-7.78 2.81-2.81c.8-.78.8-2.07 0-2.86zM5.41 20L4 18.59l7.72-7.72 1.47 1.35L5.41 20z\"/>\n",
              "  </svg>\n",
              "      </button>\n",
              "      \n",
              "  <style>\n",
              "    .colab-df-container {\n",
              "      display:flex;\n",
              "      flex-wrap:wrap;\n",
              "      gap: 12px;\n",
              "    }\n",
              "\n",
              "    .colab-df-convert {\n",
              "      background-color: #E8F0FE;\n",
              "      border: none;\n",
              "      border-radius: 50%;\n",
              "      cursor: pointer;\n",
              "      display: none;\n",
              "      fill: #1967D2;\n",
              "      height: 32px;\n",
              "      padding: 0 0 0 0;\n",
              "      width: 32px;\n",
              "    }\n",
              "\n",
              "    .colab-df-convert:hover {\n",
              "      background-color: #E2EBFA;\n",
              "      box-shadow: 0px 1px 2px rgba(60, 64, 67, 0.3), 0px 1px 3px 1px rgba(60, 64, 67, 0.15);\n",
              "      fill: #174EA6;\n",
              "    }\n",
              "\n",
              "    [theme=dark] .colab-df-convert {\n",
              "      background-color: #3B4455;\n",
              "      fill: #D2E3FC;\n",
              "    }\n",
              "\n",
              "    [theme=dark] .colab-df-convert:hover {\n",
              "      background-color: #434B5C;\n",
              "      box-shadow: 0px 1px 3px 1px rgba(0, 0, 0, 0.15);\n",
              "      filter: drop-shadow(0px 1px 2px rgba(0, 0, 0, 0.3));\n",
              "      fill: #FFFFFF;\n",
              "    }\n",
              "  </style>\n",
              "\n",
              "      <script>\n",
              "        const buttonEl =\n",
              "          document.querySelector('#df-98eee9c7-821d-4a4d-a95d-77b9e7da5159 button.colab-df-convert');\n",
              "        buttonEl.style.display =\n",
              "          google.colab.kernel.accessAllowed ? 'block' : 'none';\n",
              "\n",
              "        async function convertToInteractive(key) {\n",
              "          const element = document.querySelector('#df-98eee9c7-821d-4a4d-a95d-77b9e7da5159');\n",
              "          const dataTable =\n",
              "            await google.colab.kernel.invokeFunction('convertToInteractive',\n",
              "                                                     [key], {});\n",
              "          if (!dataTable) return;\n",
              "\n",
              "          const docLinkHtml = 'Like what you see? Visit the ' +\n",
              "            '<a target=\"_blank\" href=https://colab.research.google.com/notebooks/data_table.ipynb>data table notebook</a>'\n",
              "            + ' to learn more about interactive tables.';\n",
              "          element.innerHTML = '';\n",
              "          dataTable['output_type'] = 'display_data';\n",
              "          await google.colab.output.renderOutput(dataTable, element);\n",
              "          const docLink = document.createElement('div');\n",
              "          docLink.innerHTML = docLinkHtml;\n",
              "          element.appendChild(docLink);\n",
              "        }\n",
              "      </script>\n",
              "    </div>\n",
              "  </div>\n",
              "  "
            ]
          },
          "metadata": {},
          "execution_count": 66
        }
      ],
      "source": [
        "X2[\"States\"] = df.index\n",
        "X2"
      ]
    },
    {
      "cell_type": "code",
      "execution_count": 67,
      "metadata": {
        "colab": {
          "base_uri": "https://localhost:8080/"
        },
        "id": "3rOREgESvyx0",
        "outputId": "c18a4dca-dd75-413a-b55a-fec888620bb5"
      },
      "outputs": [
        {
          "output_type": "execute_result",
          "data": {
            "text/plain": [
              "0         Alabama\n",
              "1          Alaska\n",
              "2         Arizona\n",
              "3        Arkansas\n",
              "4      California\n",
              "5        Colorado\n",
              "6     Connecticut\n",
              "7        Delaware\n",
              "8         Florida\n",
              "9         Georgia\n",
              "10         Hawaii\n",
              "11          Idaho\n",
              "12       Illinois\n",
              "13        Indiana\n",
              "14           Iowa\n",
              "15         Kansas\n",
              "16       Kentucky\n",
              "17      Louisiana\n",
              "18          Maine\n",
              "19       Maryland\n",
              "Name: States, dtype: object"
            ]
          },
          "metadata": {},
          "execution_count": 67
        }
      ],
      "source": [
        "X2[X2.crime_level==\"low\"][\"States\"]"
      ]
    },
    {
      "cell_type": "code",
      "execution_count": 68,
      "metadata": {
        "colab": {
          "base_uri": "https://localhost:8080/"
        },
        "id": "BnXmeBmHvyx0",
        "outputId": "65264015-6960-42a1-beda-ccf69876dd07"
      },
      "outputs": [
        {
          "output_type": "execute_result",
          "data": {
            "text/plain": [
              "34              Ohio\n",
              "35          Oklahoma\n",
              "36            Oregon\n",
              "37      Pennsylvania\n",
              "38      Rhode Island\n",
              "39    South Carolina\n",
              "40      South Dakota\n",
              "41         Tennessee\n",
              "42             Texas\n",
              "43              Utah\n",
              "44           Vermont\n",
              "45          Virginia\n",
              "46        Washington\n",
              "47     West Virginia\n",
              "48         Wisconsin\n",
              "49           Wyoming\n",
              "Name: States, dtype: object"
            ]
          },
          "metadata": {},
          "execution_count": 68
        }
      ],
      "source": [
        "X2[X2.crime_level==\"high\"][\"States\"]"
      ]
    },
    {
      "cell_type": "code",
      "execution_count": 68,
      "metadata": {
        "id": "FxMjXgJNvyx0"
      },
      "outputs": [],
      "source": [
        ""
      ]
    }
  ],
  "metadata": {
    "kernelspec": {
      "display_name": "Python 3 (ipykernel)",
      "language": "python",
      "name": "python3"
    },
    "language_info": {
      "codemirror_mode": {
        "name": "ipython",
        "version": 3
      },
      "file_extension": ".py",
      "mimetype": "text/x-python",
      "name": "python",
      "nbconvert_exporter": "python",
      "pygments_lexer": "ipython3",
      "version": "3.7.9"
    },
    "colab": {
      "name": "ML-18 (Hierarchical-Clustering-USArrests)26.05.2022.ipynb",
      "provenance": [],
      "include_colab_link": true
    }
  },
  "nbformat": 4,
  "nbformat_minor": 0
}